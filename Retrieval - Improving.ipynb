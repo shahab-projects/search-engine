{
 "cells": [
  {
   "cell_type": "code",
   "execution_count": 9,
   "id": "8b781e47-2986-4c1d-b1f6-28361312aa93",
   "metadata": {
    "tags": []
   },
   "outputs": [
    {
     "name": "stderr",
     "output_type": "stream",
     "text": [
      "[nltk_data] Downloading package stopwords to\n",
      "[nltk_data]     C:\\Users\\Admin\\AppData\\Roaming\\nltk_data...\n",
      "[nltk_data]   Package stopwords is already up-to-date!\n",
      "[nltk_data] Downloading package wordnet to\n",
      "[nltk_data]     C:\\Users\\Admin\\AppData\\Roaming\\nltk_data...\n",
      "[nltk_data]   Package wordnet is already up-to-date!\n"
     ]
    },
    {
     "data": {
      "text/plain": [
       "True"
      ]
     },
     "execution_count": 9,
     "metadata": {},
     "output_type": "execute_result"
    }
   ],
   "source": [
    "import pandas as pd\n",
    "import numpy as np\n",
    "from sklearn.feature_extraction.text import TfidfVectorizer\n",
    "from sklearn.metrics.pairwise import cosine_similarity\n",
    "\n",
    "# dropping stopwords, Lemmatization \n",
    "import nltk                              # \n",
    "from nltk.corpus import stopwords        # removing stopwords\n",
    "from nltk.stem import WordNetLemmatizer  # stemmization / lemmetization\n",
    "from sklearn.pipeline import Pipeline    # \n",
    "from nltk.corpus import wordnet          # Enriching the query with also synonyms and semantically related words\n",
    "\n",
    "nltk.download('stopwords')  # Adding Stopwords to the preprocessing the data phase \n",
    "nltk.download('wordnet')    # conceptual relationships between words"
   ]
  },
  {
   "cell_type": "code",
   "execution_count": null,
   "id": "f2384d13-941a-4c49-b903-68c5cf55ac15",
   "metadata": {
    "tags": []
   },
   "outputs": [],
   "source": [
    "#clone the git repo that contains the data and additional information about the dataset\n",
    "!git clone https://github.com/wayfair/WANDS.git"
   ]
  },
  {
   "cell_type": "code",
   "execution_count": null,
   "id": "42485468-77e2-4fc3-9a70-319a70603472",
   "metadata": {
    "tags": []
   },
   "outputs": [],
   "source": [
    "# Adding preprocess data phase before running the tf-IDF algorithm\n",
    "def preprocess_text(text):\n",
    "    stop_words = set(stopwords.words('english'))\n",
    "    lemmatizer = WordNetLemmatizer()\n",
    "    # Tokenize, remove stopwords, and lemmatize\n",
    "    tokens = text.lower().split()\n",
    "    tokens = [lemmatizer.lemmatize(word) for word in tokens if word not in stop_words]\n",
    "    return ' '.join(tokens)\n",
    "\n",
    "# Handling null values for more columns (product names, descriptions, class, hierarchy, features)\n",
    "def preprocess_dataframe(dataframe):\n",
    "    for col in dataframe:\n",
    "        if dataframe[col].dtype == 'object': \n",
    "            if dataframe[col].isna().sum() > 0: \n",
    "                print('Number of null values in', col, 'is:', dataframe[col].isna().sum())\n",
    "            dataframe[col] = dataframe[col].fillna('').apply(preprocess_text)\n",
    "    return dataframe\n",
    "\n",
    "# Defining functions for product search using Tf-IDF\n",
    "def calculate_tfidf(dataframe):\n",
    "    # combined_text = dataframe['product_name'] + ' ' + dataframe['product_description']\n",
    "    combined_text = dataframe['product_name'].copy() # increasing the weight of product name by adding it twice\n",
    "    for col in dataframe:\n",
    "        if dataframe[col].dtype == 'object': combined_text += ' ' + dataframe[col] \n",
    "\n",
    "    # vectorizer = TfidfVectorizer()\n",
    "    vectorizer = TfidfVectorizer(ngram_range=(1, 2)) # adding biagram also; TfidfVectorizer: 1) transform text to numerical, 2) identify important words, 3) filter out common words\n",
    "    \n",
    "    # convert combined_text to list of unicode strings\n",
    "    tfidf_matrix = vectorizer.fit_transform(combined_text.values.astype('U')) # U: Converting to the unicoce string format; fit_transform: converts each doc to a numerical vector\n",
    "    return vectorizer, tfidf_matrix\n",
    "\n",
    "def get_top_products(vectorizer, tfidf_matrix, query, top_n=10):\n",
    "    query_vector = vectorizer.transform([query])\n",
    "    cosine_similarities = cosine_similarity(query_vector, tfidf_matrix).flatten()\n",
    "    top_product_indices = cosine_similarities.argsort()[-top_n:][::-1]\n",
    "    return top_product_indices"
   ]
  },
  {
   "cell_type": "code",
   "execution_count": 44,
   "id": "8dd06913-4149-44c7-a876-787316e1b1a4",
   "metadata": {
    "tags": []
   },
   "outputs": [],
   "source": [
    "# Defining functions for evaluating retrieval performance\n",
    "def map_at_k(true_ids, predicted_ids, k=10):\n",
    "    #if either list is empty, return 0\n",
    "    if not len(true_ids) or not len(predicted_ids):\n",
    "        return 0.0\n",
    "\n",
    "    score = 0.0\n",
    "    num_hits = 0.0\n",
    "\n",
    "    for i, p_id in enumerate(predicted_ids[:k]):\n",
    "        if p_id in true_ids and p_id not in predicted_ids[:i]:\n",
    "            num_hits += 1.0\n",
    "            score += num_hits / (i + 1.0)\n",
    "\n",
    "    return score / min(len(true_ids), k)"
   ]
  },
  {
   "cell_type": "code",
   "execution_count": 13,
   "id": "2e6f66b3-37d1-48b0-a9f5-fb58003f4cd5",
   "metadata": {
    "tags": []
   },
   "outputs": [],
   "source": [
    "# get search queries\n",
    "query_df = pd.read_csv(r\"WANDS/dataset/query.csv\", sep='\\t')"
   ]
  },
  {
   "cell_type": "code",
   "execution_count": 65,
   "id": "041c7b89-1985-4dff-86e6-67353c96bdc6",
   "metadata": {
    "tags": []
   },
   "outputs": [
    {
     "data": {
      "text/html": [
       "<div>\n",
       "<style scoped>\n",
       "    .dataframe tbody tr th:only-of-type {\n",
       "        vertical-align: middle;\n",
       "    }\n",
       "\n",
       "    .dataframe tbody tr th {\n",
       "        vertical-align: top;\n",
       "    }\n",
       "\n",
       "    .dataframe thead th {\n",
       "        text-align: right;\n",
       "    }\n",
       "</style>\n",
       "<table border=\"1\" class=\"dataframe\">\n",
       "  <thead>\n",
       "    <tr style=\"text-align: right;\">\n",
       "      <th></th>\n",
       "      <th>query_id</th>\n",
       "      <th>query</th>\n",
       "      <th>query_class</th>\n",
       "    </tr>\n",
       "  </thead>\n",
       "  <tbody>\n",
       "    <tr>\n",
       "      <th>0</th>\n",
       "      <td>0</td>\n",
       "      <td>salon chair</td>\n",
       "      <td>Massage Chairs</td>\n",
       "    </tr>\n",
       "    <tr>\n",
       "      <th>1</th>\n",
       "      <td>1</td>\n",
       "      <td>smart coffee table</td>\n",
       "      <td>Coffee &amp; Cocktail Tables</td>\n",
       "    </tr>\n",
       "    <tr>\n",
       "      <th>2</th>\n",
       "      <td>2</td>\n",
       "      <td>dinosaur</td>\n",
       "      <td>Kids Wall Décor</td>\n",
       "    </tr>\n",
       "    <tr>\n",
       "      <th>3</th>\n",
       "      <td>3</td>\n",
       "      <td>turquoise pillows</td>\n",
       "      <td>Accent Pillows</td>\n",
       "    </tr>\n",
       "    <tr>\n",
       "      <th>4</th>\n",
       "      <td>4</td>\n",
       "      <td>chair and a half recliner</td>\n",
       "      <td>Recliners</td>\n",
       "    </tr>\n",
       "  </tbody>\n",
       "</table>\n",
       "</div>"
      ],
      "text/plain": [
       "   query_id                      query               query_class\n",
       "0         0                salon chair            Massage Chairs\n",
       "1         1         smart coffee table  Coffee & Cocktail Tables\n",
       "2         2                   dinosaur           Kids Wall Décor\n",
       "3         3          turquoise pillows            Accent Pillows\n",
       "4         4  chair and a half recliner                 Recliners"
      ]
     },
     "execution_count": 65,
     "metadata": {},
     "output_type": "execute_result"
    }
   ],
   "source": [
    "query_df.head()"
   ]
  },
  {
   "cell_type": "code",
   "execution_count": 10,
   "id": "d55b7820-00e2-4300-966c-8762d15fd407",
   "metadata": {
    "tags": []
   },
   "outputs": [],
   "source": [
    "# get products\n",
    "product_df = pd.read_csv(\"WANDS/dataset/product.csv\", sep='\\t')"
   ]
  },
  {
   "cell_type": "code",
   "execution_count": 82,
   "id": "b0d9c2a5-8c89-41fe-94d4-b0d57a09ca3c",
   "metadata": {
    "tags": []
   },
   "outputs": [
    {
     "data": {
      "text/html": [
       "<div>\n",
       "<style scoped>\n",
       "    .dataframe tbody tr th:only-of-type {\n",
       "        vertical-align: middle;\n",
       "    }\n",
       "\n",
       "    .dataframe tbody tr th {\n",
       "        vertical-align: top;\n",
       "    }\n",
       "\n",
       "    .dataframe thead th {\n",
       "        text-align: right;\n",
       "    }\n",
       "</style>\n",
       "<table border=\"1\" class=\"dataframe\">\n",
       "  <thead>\n",
       "    <tr style=\"text-align: right;\">\n",
       "      <th></th>\n",
       "      <th>product_id</th>\n",
       "      <th>product_name</th>\n",
       "      <th>product_class</th>\n",
       "      <th>category hierarchy</th>\n",
       "      <th>product_description</th>\n",
       "      <th>product_features</th>\n",
       "      <th>rating_count</th>\n",
       "      <th>average_rating</th>\n",
       "      <th>review_count</th>\n",
       "    </tr>\n",
       "  </thead>\n",
       "  <tbody>\n",
       "    <tr>\n",
       "      <th>0</th>\n",
       "      <td>0</td>\n",
       "      <td>solid wood platform bed</td>\n",
       "      <td>Beds</td>\n",
       "      <td>Furniture / Bedroom Furniture / Beds &amp; Headboa...</td>\n",
       "      <td>good , deep sleep can be quite difficult to ha...</td>\n",
       "      <td>overallwidth-sidetoside:64.7|dsprimaryproducts...</td>\n",
       "      <td>15.0</td>\n",
       "      <td>4.5</td>\n",
       "      <td>15.0</td>\n",
       "    </tr>\n",
       "    <tr>\n",
       "      <th>1</th>\n",
       "      <td>1</td>\n",
       "      <td>all-clad 7 qt . slow cooker</td>\n",
       "      <td>Slow Cookers</td>\n",
       "      <td>Kitchen &amp; Tabletop / Small Kitchen Appliances ...</td>\n",
       "      <td>create delicious slow-cooked meals , from tend...</td>\n",
       "      <td>capacityquarts:7|producttype : slow cooker|pro...</td>\n",
       "      <td>100.0</td>\n",
       "      <td>2.0</td>\n",
       "      <td>98.0</td>\n",
       "    </tr>\n",
       "    <tr>\n",
       "      <th>2</th>\n",
       "      <td>2</td>\n",
       "      <td>all-clad electrics 6.5 qt . slow cooker</td>\n",
       "      <td>Slow Cookers</td>\n",
       "      <td>Kitchen &amp; Tabletop / Small Kitchen Appliances ...</td>\n",
       "      <td>prepare home-cooked meals on any schedule with...</td>\n",
       "      <td>features : keep warm setting|capacityquarts:6....</td>\n",
       "      <td>208.0</td>\n",
       "      <td>3.0</td>\n",
       "      <td>181.0</td>\n",
       "    </tr>\n",
       "    <tr>\n",
       "      <th>3</th>\n",
       "      <td>3</td>\n",
       "      <td>all-clad all professional tools pizza cutter</td>\n",
       "      <td>Slicers, Peelers And Graters</td>\n",
       "      <td>Browse By Brand / All-Clad</td>\n",
       "      <td>this original stainless tool was designed to c...</td>\n",
       "      <td>overallwidth-sidetoside:3.5|warrantylength : l...</td>\n",
       "      <td>69.0</td>\n",
       "      <td>4.5</td>\n",
       "      <td>42.0</td>\n",
       "    </tr>\n",
       "    <tr>\n",
       "      <th>4</th>\n",
       "      <td>4</td>\n",
       "      <td>baldwin prestige alcott passage knob with roun...</td>\n",
       "      <td>Door Knobs</td>\n",
       "      <td>Home Improvement / Doors &amp; Door Hardware / Doo...</td>\n",
       "      <td>the hardware has a rich heritage of delivering...</td>\n",
       "      <td>compatibledoorthickness:1.375 '' |countryofori...</td>\n",
       "      <td>70.0</td>\n",
       "      <td>5.0</td>\n",
       "      <td>42.0</td>\n",
       "    </tr>\n",
       "  </tbody>\n",
       "</table>\n",
       "</div>"
      ],
      "text/plain": [
       "   product_id                                       product_name  \\\n",
       "0           0                            solid wood platform bed   \n",
       "1           1                        all-clad 7 qt . slow cooker   \n",
       "2           2            all-clad electrics 6.5 qt . slow cooker   \n",
       "3           3       all-clad all professional tools pizza cutter   \n",
       "4           4  baldwin prestige alcott passage knob with roun...   \n",
       "\n",
       "                  product_class  \\\n",
       "0                          Beds   \n",
       "1                  Slow Cookers   \n",
       "2                  Slow Cookers   \n",
       "3  Slicers, Peelers And Graters   \n",
       "4                    Door Knobs   \n",
       "\n",
       "                                  category hierarchy  \\\n",
       "0  Furniture / Bedroom Furniture / Beds & Headboa...   \n",
       "1  Kitchen & Tabletop / Small Kitchen Appliances ...   \n",
       "2  Kitchen & Tabletop / Small Kitchen Appliances ...   \n",
       "3                         Browse By Brand / All-Clad   \n",
       "4  Home Improvement / Doors & Door Hardware / Doo...   \n",
       "\n",
       "                                 product_description  \\\n",
       "0  good , deep sleep can be quite difficult to ha...   \n",
       "1  create delicious slow-cooked meals , from tend...   \n",
       "2  prepare home-cooked meals on any schedule with...   \n",
       "3  this original stainless tool was designed to c...   \n",
       "4  the hardware has a rich heritage of delivering...   \n",
       "\n",
       "                                    product_features  rating_count  \\\n",
       "0  overallwidth-sidetoside:64.7|dsprimaryproducts...          15.0   \n",
       "1  capacityquarts:7|producttype : slow cooker|pro...         100.0   \n",
       "2  features : keep warm setting|capacityquarts:6....         208.0   \n",
       "3  overallwidth-sidetoside:3.5|warrantylength : l...          69.0   \n",
       "4  compatibledoorthickness:1.375 '' |countryofori...          70.0   \n",
       "\n",
       "   average_rating  review_count  \n",
       "0             4.5          15.0  \n",
       "1             2.0          98.0  \n",
       "2             3.0         181.0  \n",
       "3             4.5          42.0  \n",
       "4             5.0          42.0  "
      ]
     },
     "execution_count": 82,
     "metadata": {},
     "output_type": "execute_result"
    }
   ],
   "source": [
    "product_df.head()"
   ]
  },
  {
   "cell_type": "code",
   "execution_count": 51,
   "id": "61d75f84-1152-43c7-b2a0-422267ab2298",
   "metadata": {
    "tags": []
   },
   "outputs": [],
   "source": [
    "# get manually labeled groundtruth lables\n",
    "label_df = pd.read_csv(\"WANDS/dataset/label.csv\", sep='\\t')"
   ]
  },
  {
   "cell_type": "code",
   "execution_count": 52,
   "id": "07b8f157-2049-4cdb-afc4-62e546d59dc9",
   "metadata": {
    "tags": []
   },
   "outputs": [
    {
     "data": {
      "text/html": [
       "<div>\n",
       "<style scoped>\n",
       "    .dataframe tbody tr th:only-of-type {\n",
       "        vertical-align: middle;\n",
       "    }\n",
       "\n",
       "    .dataframe tbody tr th {\n",
       "        vertical-align: top;\n",
       "    }\n",
       "\n",
       "    .dataframe thead th {\n",
       "        text-align: right;\n",
       "    }\n",
       "</style>\n",
       "<table border=\"1\" class=\"dataframe\">\n",
       "  <thead>\n",
       "    <tr style=\"text-align: right;\">\n",
       "      <th></th>\n",
       "      <th>id</th>\n",
       "      <th>query_id</th>\n",
       "      <th>product_id</th>\n",
       "      <th>label</th>\n",
       "    </tr>\n",
       "  </thead>\n",
       "  <tbody>\n",
       "    <tr>\n",
       "      <th>0</th>\n",
       "      <td>0</td>\n",
       "      <td>0</td>\n",
       "      <td>25434</td>\n",
       "      <td>Exact</td>\n",
       "    </tr>\n",
       "    <tr>\n",
       "      <th>1</th>\n",
       "      <td>1</td>\n",
       "      <td>0</td>\n",
       "      <td>12088</td>\n",
       "      <td>Irrelevant</td>\n",
       "    </tr>\n",
       "    <tr>\n",
       "      <th>2</th>\n",
       "      <td>2</td>\n",
       "      <td>0</td>\n",
       "      <td>42931</td>\n",
       "      <td>Exact</td>\n",
       "    </tr>\n",
       "    <tr>\n",
       "      <th>3</th>\n",
       "      <td>3</td>\n",
       "      <td>0</td>\n",
       "      <td>2636</td>\n",
       "      <td>Exact</td>\n",
       "    </tr>\n",
       "    <tr>\n",
       "      <th>4</th>\n",
       "      <td>4</td>\n",
       "      <td>0</td>\n",
       "      <td>42923</td>\n",
       "      <td>Exact</td>\n",
       "    </tr>\n",
       "  </tbody>\n",
       "</table>\n",
       "</div>"
      ],
      "text/plain": [
       "   id  query_id  product_id       label\n",
       "0   0         0       25434       Exact\n",
       "1   1         0       12088  Irrelevant\n",
       "2   2         0       42931       Exact\n",
       "3   3         0        2636       Exact\n",
       "4   4         0       42923       Exact"
      ]
     },
     "execution_count": 52,
     "metadata": {},
     "output_type": "execute_result"
    }
   ],
   "source": [
    "label_df.head()"
   ]
  },
  {
   "cell_type": "code",
   "execution_count": 53,
   "id": "59768978-5c40-45b0-84a7-d6cc5d469b5a",
   "metadata": {
    "tags": []
   },
   "outputs": [],
   "source": [
    "#group the labels for each query to use when identifying exact matches\n",
    "grouped_label_df = label_df.groupby('query_id')"
   ]
  },
  {
   "cell_type": "code",
   "execution_count": 71,
   "id": "3c2f203d",
   "metadata": {},
   "outputs": [
    {
     "name": "stdout",
     "output_type": "stream",
     "text": [
      "Number of null values in product_class is: 2852\n",
      "Number of null values in category hierarchy is: 1556\n",
      "Number of null values in product_description is: 6008\n"
     ]
    },
    {
     "data": {
      "text/html": [
       "<div>\n",
       "<style scoped>\n",
       "    .dataframe tbody tr th:only-of-type {\n",
       "        vertical-align: middle;\n",
       "    }\n",
       "\n",
       "    .dataframe tbody tr th {\n",
       "        vertical-align: top;\n",
       "    }\n",
       "\n",
       "    .dataframe thead th {\n",
       "        text-align: right;\n",
       "    }\n",
       "</style>\n",
       "<table border=\"1\" class=\"dataframe\">\n",
       "  <thead>\n",
       "    <tr style=\"text-align: right;\">\n",
       "      <th></th>\n",
       "      <th>product_id</th>\n",
       "      <th>product_name</th>\n",
       "      <th>product_class</th>\n",
       "      <th>category hierarchy</th>\n",
       "      <th>product_description</th>\n",
       "      <th>product_features</th>\n",
       "      <th>rating_count</th>\n",
       "      <th>average_rating</th>\n",
       "      <th>review_count</th>\n",
       "    </tr>\n",
       "  </thead>\n",
       "  <tbody>\n",
       "    <tr>\n",
       "      <th>0</th>\n",
       "      <td>0</td>\n",
       "      <td>solid wood platform bed</td>\n",
       "      <td>bed</td>\n",
       "      <td>furniture / bedroom furniture / bed &amp; headboar...</td>\n",
       "      <td>good , deep sleep quite difficult busy age . f...</td>\n",
       "      <td>overallwidth-sidetoside:64.7|dsprimaryproducts...</td>\n",
       "      <td>15.0</td>\n",
       "      <td>4.5</td>\n",
       "      <td>15.0</td>\n",
       "    </tr>\n",
       "    <tr>\n",
       "      <th>1</th>\n",
       "      <td>1</td>\n",
       "      <td>all-clad 7 qt . slow cooker</td>\n",
       "      <td>slow cooker</td>\n",
       "      <td>kitchen &amp; tabletop / small kitchen appliance /...</td>\n",
       "      <td>create delicious slow-cooked meal , tender mea...</td>\n",
       "      <td>capacityquarts:7|producttype : slow cooker|pro...</td>\n",
       "      <td>100.0</td>\n",
       "      <td>2.0</td>\n",
       "      <td>98.0</td>\n",
       "    </tr>\n",
       "    <tr>\n",
       "      <th>2</th>\n",
       "      <td>2</td>\n",
       "      <td>all-clad electric 6.5 qt . slow cooker</td>\n",
       "      <td>slow cooker</td>\n",
       "      <td>kitchen &amp; tabletop / small kitchen appliance /...</td>\n",
       "      <td>prepare home-cooked meal schedule essential sl...</td>\n",
       "      <td>feature : keep warm setting|capacityquarts:6.5...</td>\n",
       "      <td>208.0</td>\n",
       "      <td>3.0</td>\n",
       "      <td>181.0</td>\n",
       "    </tr>\n",
       "    <tr>\n",
       "      <th>3</th>\n",
       "      <td>3</td>\n",
       "      <td>all-clad professional tool pizza cutter</td>\n",
       "      <td>slicers, peeler grater</td>\n",
       "      <td>browse brand / all-clad</td>\n",
       "      <td>original stainless tool designed complement ma...</td>\n",
       "      <td>overallwidth-sidetoside:3.5|warrantylength : l...</td>\n",
       "      <td>69.0</td>\n",
       "      <td>4.5</td>\n",
       "      <td>42.0</td>\n",
       "    </tr>\n",
       "    <tr>\n",
       "      <th>4</th>\n",
       "      <td>4</td>\n",
       "      <td>baldwin prestige alcott passage knob round ros...</td>\n",
       "      <td>door knob</td>\n",
       "      <td>home improvement / door &amp; door hardware / door...</td>\n",
       "      <td>hardware rich heritage delivering modern luxur...</td>\n",
       "      <td>compatibledoorthickness:1.375 '' |countryofori...</td>\n",
       "      <td>70.0</td>\n",
       "      <td>5.0</td>\n",
       "      <td>42.0</td>\n",
       "    </tr>\n",
       "    <tr>\n",
       "      <th>...</th>\n",
       "      <td>...</td>\n",
       "      <td>...</td>\n",
       "      <td>...</td>\n",
       "      <td>...</td>\n",
       "      <td>...</td>\n",
       "      <td>...</td>\n",
       "      <td>...</td>\n",
       "      <td>...</td>\n",
       "      <td>...</td>\n",
       "    </tr>\n",
       "    <tr>\n",
       "      <th>42989</th>\n",
       "      <td>42989</td>\n",
       "      <td>malibu pressure balanced diverter fixed shower...</td>\n",
       "      <td>shower panel</td>\n",
       "      <td>home improvement / bathroom remodel &amp; bathroom...</td>\n",
       "      <td>malibu pressure balanced diverter fixed shower...</td>\n",
       "      <td>producttype : shower panel|spraypattern : rain...</td>\n",
       "      <td>3.0</td>\n",
       "      <td>4.5</td>\n",
       "      <td>2.0</td>\n",
       "    </tr>\n",
       "    <tr>\n",
       "      <th>42990</th>\n",
       "      <td>42990</td>\n",
       "      <td>emmeline 5 piece breakfast dining set</td>\n",
       "      <td>dining table set</td>\n",
       "      <td>furniture / kitchen &amp; dining furniture / dinin...</td>\n",
       "      <td></td>\n",
       "      <td>basematerialdetails : steel| : gray wood|ofhar...</td>\n",
       "      <td>1314.0</td>\n",
       "      <td>4.5</td>\n",
       "      <td>864.0</td>\n",
       "    </tr>\n",
       "    <tr>\n",
       "      <th>42991</th>\n",
       "      <td>42991</td>\n",
       "      <td>maloney 3 piece pub table set</td>\n",
       "      <td>dining table set</td>\n",
       "      <td>furniture / kitchen &amp; dining furniture / dinin...</td>\n",
       "      <td>pub table set includes 1 counter height table ...</td>\n",
       "      <td>additionaltoolsrequirednotincluded : power dri...</td>\n",
       "      <td>49.0</td>\n",
       "      <td>4.0</td>\n",
       "      <td>41.0</td>\n",
       "    </tr>\n",
       "    <tr>\n",
       "      <th>42992</th>\n",
       "      <td>42992</td>\n",
       "      <td>fletcher 27.5 '' wide polyester armchair</td>\n",
       "      <td>teen lounge furniture|accent chair</td>\n",
       "      <td>furniture / living room furniture / chair &amp; se...</td>\n",
       "      <td>bring iconic , modern style space cinch armcha...</td>\n",
       "      <td>legmaterialdetails : rubberwood|backheight-sea...</td>\n",
       "      <td>1746.0</td>\n",
       "      <td>4.5</td>\n",
       "      <td>1226.0</td>\n",
       "    </tr>\n",
       "    <tr>\n",
       "      <th>42993</th>\n",
       "      <td>42993</td>\n",
       "      <td>griffin 29 '' bar stool</td>\n",
       "      <td>bar stool</td>\n",
       "      <td>furniture / kitchen &amp; dining furniture / bar f...</td>\n",
       "      <td>set two barstools feature minimalist , industr...</td>\n",
       "      <td>distancebetweenfloorandfootrest:7.5|dssecondar...</td>\n",
       "      <td>20.0</td>\n",
       "      <td>4.5</td>\n",
       "      <td>20.0</td>\n",
       "    </tr>\n",
       "  </tbody>\n",
       "</table>\n",
       "<p>42994 rows × 9 columns</p>\n",
       "</div>"
      ],
      "text/plain": [
       "       product_id                                       product_name  \\\n",
       "0               0                            solid wood platform bed   \n",
       "1               1                        all-clad 7 qt . slow cooker   \n",
       "2               2             all-clad electric 6.5 qt . slow cooker   \n",
       "3               3            all-clad professional tool pizza cutter   \n",
       "4               4  baldwin prestige alcott passage knob round ros...   \n",
       "...           ...                                                ...   \n",
       "42989       42989  malibu pressure balanced diverter fixed shower...   \n",
       "42990       42990              emmeline 5 piece breakfast dining set   \n",
       "42991       42991                      maloney 3 piece pub table set   \n",
       "42992       42992           fletcher 27.5 '' wide polyester armchair   \n",
       "42993       42993                            griffin 29 '' bar stool   \n",
       "\n",
       "                            product_class  \\\n",
       "0                                     bed   \n",
       "1                             slow cooker   \n",
       "2                             slow cooker   \n",
       "3                  slicers, peeler grater   \n",
       "4                               door knob   \n",
       "...                                   ...   \n",
       "42989                        shower panel   \n",
       "42990                    dining table set   \n",
       "42991                    dining table set   \n",
       "42992  teen lounge furniture|accent chair   \n",
       "42993                           bar stool   \n",
       "\n",
       "                                      category hierarchy  \\\n",
       "0      furniture / bedroom furniture / bed & headboar...   \n",
       "1      kitchen & tabletop / small kitchen appliance /...   \n",
       "2      kitchen & tabletop / small kitchen appliance /...   \n",
       "3                                browse brand / all-clad   \n",
       "4      home improvement / door & door hardware / door...   \n",
       "...                                                  ...   \n",
       "42989  home improvement / bathroom remodel & bathroom...   \n",
       "42990  furniture / kitchen & dining furniture / dinin...   \n",
       "42991  furniture / kitchen & dining furniture / dinin...   \n",
       "42992  furniture / living room furniture / chair & se...   \n",
       "42993  furniture / kitchen & dining furniture / bar f...   \n",
       "\n",
       "                                     product_description  \\\n",
       "0      good , deep sleep quite difficult busy age . f...   \n",
       "1      create delicious slow-cooked meal , tender mea...   \n",
       "2      prepare home-cooked meal schedule essential sl...   \n",
       "3      original stainless tool designed complement ma...   \n",
       "4      hardware rich heritage delivering modern luxur...   \n",
       "...                                                  ...   \n",
       "42989  malibu pressure balanced diverter fixed shower...   \n",
       "42990                                                      \n",
       "42991  pub table set includes 1 counter height table ...   \n",
       "42992  bring iconic , modern style space cinch armcha...   \n",
       "42993  set two barstools feature minimalist , industr...   \n",
       "\n",
       "                                        product_features  rating_count  \\\n",
       "0      overallwidth-sidetoside:64.7|dsprimaryproducts...          15.0   \n",
       "1      capacityquarts:7|producttype : slow cooker|pro...         100.0   \n",
       "2      feature : keep warm setting|capacityquarts:6.5...         208.0   \n",
       "3      overallwidth-sidetoside:3.5|warrantylength : l...          69.0   \n",
       "4      compatibledoorthickness:1.375 '' |countryofori...          70.0   \n",
       "...                                                  ...           ...   \n",
       "42989  producttype : shower panel|spraypattern : rain...           3.0   \n",
       "42990  basematerialdetails : steel| : gray wood|ofhar...        1314.0   \n",
       "42991  additionaltoolsrequirednotincluded : power dri...          49.0   \n",
       "42992  legmaterialdetails : rubberwood|backheight-sea...        1746.0   \n",
       "42993  distancebetweenfloorandfootrest:7.5|dssecondar...          20.0   \n",
       "\n",
       "       average_rating  review_count  \n",
       "0                 4.5          15.0  \n",
       "1                 2.0          98.0  \n",
       "2                 3.0         181.0  \n",
       "3                 4.5          42.0  \n",
       "4                 5.0          42.0  \n",
       "...               ...           ...  \n",
       "42989             4.5           2.0  \n",
       "42990             4.5         864.0  \n",
       "42991             4.0          41.0  \n",
       "42992             4.5        1226.0  \n",
       "42993             4.5          20.0  \n",
       "\n",
       "[42994 rows x 9 columns]"
      ]
     },
     "execution_count": 71,
     "metadata": {},
     "output_type": "execute_result"
    }
   ],
   "source": [
    "# Preprocess of data - finding null values in product names and descriptions\n",
    "preprocess_dataframe(product_df)"
   ]
  },
  {
   "cell_type": "code",
   "execution_count": 23,
   "id": "b1beab6d-1f59-427b-ad9f-1f0c6fcaadcc",
   "metadata": {
    "tags": []
   },
   "outputs": [],
   "source": [
    "# Calculate TF-IDF\n",
    "vectorizer, tfidf_matrix = calculate_tfidf(product_df) # Using new enriched dataframe (having more columns to compare with the query)"
   ]
  },
  {
   "cell_type": "code",
   "execution_count": 36,
   "id": "3e4b8333-b747-4c3e-87bc-4825f934ab6f",
   "metadata": {
    "tags": []
   },
   "outputs": [
    {
     "name": "stdout",
     "output_type": "stream",
     "text": [
      "Top products for 'armchair armchair':\n",
      "42698 donham armchair\n",
      "31564 biloxi 34.75 '' wide armchair\n",
      "29626 armchair\n",
      "41306 hartsell 33 '' wide armchair\n",
      "23907 faizah 27.6 '' wide tufted polyester armchair\n",
      "12756 24.41 '' wide tufted polyester armchair\n",
      "41270 almaraz 33.7 '' wide leather match armchair\n",
      "1140 charnley 47 '' wide chenille armchair\n",
      "29627 bostick 25 '' wide polyester armchair\n",
      "33678 colby 24 '' wide armchair\n"
     ]
    }
   ],
   "source": [
    "# Usinmg WordNet to enrich the query \n",
    "def expand_query(query):\n",
    "    synonyms = set()\n",
    "    for syn in wordnet.synsets(query):\n",
    "        for lemma in syn.lemmas():\n",
    "            if lemma.name() not in synonyms: synonyms.add(lemma.name())\n",
    "    return query + ' ' + ' '.join(synonyms)\n",
    "\n",
    "# Sanity check code block to see if the search results are relevant\n",
    "# Implementing a function to retrieve top K product IDs for a query\n",
    "def get_top_product_ids_for_query(query):\n",
    "    top_product_indices = get_top_products(vectorizer, tfidf_matrix, query, top_n=10)\n",
    "    top_product_ids = product_df.iloc[top_product_indices]['product_id'].tolist()\n",
    "    return top_product_ids\n",
    "\n",
    "# Defining the test query\n",
    "query = \"armchair\"\n",
    "query = expand_query(query) # Enriching the query\n",
    "\n",
    "# Obtain top product IDs\n",
    "top_product_ids = get_top_product_ids_for_query(query)\n",
    "\n",
    "print(f\"Top products for '{query}':\")\n",
    "for product_id in top_product_ids:\n",
    "    product = product_df.loc[product_df['product_id'] == product_id]\n",
    "    print(product_id, product['product_name'].values[0])"
   ]
  },
  {
   "cell_type": "code",
   "execution_count": 54,
   "id": "4bdeda61-7fb0-4ca6-a9e1-f1789b539f66",
   "metadata": {
    "tags": []
   },
   "outputs": [],
   "source": [
    "# Implementing a function to retrieve exact match product IDs for a query_id\n",
    "def get_exact_matches_for_query(query_id):\n",
    "    query_group = grouped_label_df.get_group(query_id)\n",
    "    exact_matches = query_group.loc[query_group['label'] == 'Exact']['product_id'].values\n",
    "    return exact_matches\n",
    "\n",
    "# Applying the function to obtain top product IDs and adding top K product IDs to the dataframe \n",
    "# query_df['top_product_ids'] = query_df['query'].apply(get_top_product_ids_for_query)\n",
    "query_df['expand_query'] = query_df['query'].apply(expand_query) # Enriching the query\n",
    "query_df['top_product_ids'] = query_df['expand_query'].apply(get_top_product_ids_for_query) # Passing the enriched query to the function\n",
    "\n",
    "# Adding the list of exact match product_IDs from labels_df\n",
    "query_df['relevant_ids'] = query_df['query_id'].apply(get_exact_matches_for_query)\n",
    "\n",
    "# Now assigning the map@k score\n",
    "query_df['map@k'] = query_df.apply(lambda x: map_at_k(x['relevant_ids'], x['top_product_ids'], k=10), axis=1)"
   ]
  },
  {
   "cell_type": "code",
   "execution_count": 76,
   "id": "ed01f293-d87b-4ab0-811a-d39140ed5638",
   "metadata": {
    "tags": []
   },
   "outputs": [
    {
     "data": {
      "text/plain": [
       "np.float64(0.34261142408352235)"
      ]
     },
     "execution_count": 76,
     "metadata": {},
     "output_type": "execute_result"
    }
   ],
   "source": [
    "# Calculating the MAP across the entire query set\n",
    "query_df.loc[:, 'map@k'].mean()"
   ]
  },
  {
   "cell_type": "markdown",
   "id": "14a92489",
   "metadata": {},
   "source": [
    "First, we compute the similarity (using cosine similarity on TF-IDF vectors) between each search query and all retrieved products.\n",
    "For each query, we rank the products by similarity and calculate Average Precision based on whether the top results contain the relevant (exact match) products.\n",
    "Then, we calculate Mean Average Precision (MAP) across all queries — this gives us an overall measure of how well our search engine retrieves relevant results.\n",
    "\n",
    "In this setup, the MAP@10 score is approximately 34%, which means that on average, relevant products appear relatively high in the top 10 retrieved results.\n",
    "\n",
    "The next step is to explore whether using more semantic embedding models (e.g., BM25, Word2Vec, Sentence Transformers, and BERT) can improve the MAP score by capturing deeper contextual or semantic similarity between queries and products.\n",
    "\n",
    "Lets start with BM25!"
   ]
  },
  {
   "cell_type": "code",
   "execution_count": 38,
   "id": "0b6ada21",
   "metadata": {},
   "outputs": [],
   "source": [
    "from rank_bm25 import BM25Okapi                      # loading BM25 package\n",
    "\n",
    "def calculate_bm25(dataframe):                       # Calculating tokenized corpus (Word Embeddings) using BM25\n",
    "    combined_text = dataframe['product_name'].copy() # increasing the weight of product name by adding it twice\n",
    "    for col in dataframe:\n",
    "        if dataframe[col].dtype == 'object': combined_text += ' ' + dataframe[col] \n",
    "\n",
    "    tokenized_corpus = [doc.split() for doc in combined_text.values.astype('U')]\n",
    "    bm25 = BM25Okapi(tokenized_corpus)\n",
    "    return bm25, tokenized_corpus\n",
    "\n",
    "bm25, tokenized_corpus = calculate_bm25(product_df)  # Using new enriched dataframe and also new model"
   ]
  },
  {
   "cell_type": "code",
   "execution_count": 39,
   "id": "e59bedfd",
   "metadata": {},
   "outputs": [
    {
     "name": "stdout",
     "output_type": "stream",
     "text": [
      "Top products for 'armchair armchair':\n",
      "42698 donham armchair\n",
      "31564 biloxi 34.75 '' wide armchair\n",
      "41306 hartsell 33 '' wide armchair\n",
      "41270 almaraz 33.7 '' wide leather match armchair\n",
      "12756 24.41 '' wide tufted polyester armchair\n",
      "23907 faizah 27.6 '' wide tufted polyester armchair\n",
      "29627 bostick 25 '' wide polyester armchair\n",
      "5989 caloundra 39.38 '' wide genuine leather armchair\n",
      "1140 charnley 47 '' wide chenille armchair\n",
      "15440 avoca 6 piece rattan sectional seating group with cushions\n"
     ]
    }
   ],
   "source": [
    "def get_top_products_bm25(query, top_n=10): # Same function with get_top_product_ids_for_query but with using BM25\n",
    "    query_tokens = query.split()\n",
    "    scores = bm25.get_scores(query_tokens)\n",
    "    top_product_indices = np.argsort(scores)[-top_n:][::-1]\n",
    "    return top_product_indices\n",
    "\n",
    "top_product_ids = get_top_products_bm25(query) # Getting indices of most similar products for the query using BM25\n",
    "\n",
    "print(f\"Top products for '{query}':\")\n",
    "for product_id in top_product_ids:\n",
    "    product = product_df.loc[product_df['product_id'] == product_id]\n",
    "    print(product_id, product['product_name'].values[0])"
   ]
  },
  {
   "cell_type": "code",
   "execution_count": null,
   "id": "bcaaf966",
   "metadata": {},
   "outputs": [
    {
     "data": {
      "text/plain": [
       "np.float64(0.35594770998677255)"
      ]
     },
     "execution_count": 85,
     "metadata": {},
     "output_type": "execute_result"
    }
   ],
   "source": [
    "query_df['top_product_ids'] = query_df['expand_query'].apply(get_top_products_bm25)                           # Passing the enriched query to the function (BM25)\n",
    "query_df['map@k'] = query_df.apply(lambda x: map_at_k(x['relevant_ids'], x['top_product_ids'], k=10), axis=1) # Now assign the map@k score\n",
    "query_df.loc[:, 'map@k'].mean()                                                                               # calculate the MAP across the entire query set"
   ]
  },
  {
   "cell_type": "markdown",
   "id": "16997191",
   "metadata": {},
   "source": [
    "The MAP@10 score has improved from 34% (TF-IDF) to 36% using BM25 — a 2% absolute gain.\n",
    "This suggests that BM25 is more effective than TF-IDF for ranking relevant products based on keyword matching.\n",
    "\n",
    "Next step: Evaluate semantic models like Word2Vec to capture contextual similarity beyond exact keyword overlap."
   ]
  },
  {
   "cell_type": "code",
   "execution_count": null,
   "id": "c0003834",
   "metadata": {},
   "outputs": [],
   "source": [
    "from gensim.models import KeyedVectors\n",
    "from sklearn.metrics.pairwise import cosine_similarity\n",
    "\n",
    "# Load pretrained Word2Vec model (e.g., Google News vectors)\n",
    "# model = KeyedVectors.load_word2vec_format('GoogleNews-vectors-negative300.bin.gz', binary=True)"
   ]
  },
  {
   "cell_type": "code",
   "execution_count": 34,
   "id": "661ff77a",
   "metadata": {},
   "outputs": [],
   "source": [
    "# --- Step 1: Build sentence embeddings for all products ---\n",
    "def calculate_word2vec(dataframe, model):\n",
    "    combined_text = dataframe['product_name'].copy()\n",
    "    for col in dataframe:\n",
    "        if dataframe[col].dtype == 'object':\n",
    "            combined_text += ' ' + dataframe[col]\n",
    "\n",
    "    # Preprocess and tokenize each document\n",
    "    tokenized_corpus = [doc.lower().split() for doc in combined_text.values.astype('U')]\n",
    "\n",
    "    # Create product embeddings by averaging word vectors\n",
    "    product_embeddings = []\n",
    "    for tokens in tokenized_corpus:\n",
    "        word_vecs = [model[word] for word in tokens if word in model]\n",
    "        if word_vecs:\n",
    "            product_embeddings.append(np.mean(word_vecs, axis=0))\n",
    "        else:\n",
    "            product_embeddings.append(np.zeros(model.vector_size))\n",
    "    \n",
    "    return np.array(product_embeddings)  # shape: (num_products, vector_size)\n",
    "\n",
    "# --- Step 2: Query matching using cosine similarity ---\n",
    "def get_top_products_word2vec(query, model, product_embeddings, top_n=10):\n",
    "    query_tokens = query.lower().split()\n",
    "    word_vecs = [model[word] for word in query_tokens if word in model]\n",
    "\n",
    "    if not word_vecs:\n",
    "        return []  # No valid tokens in query\n",
    "\n",
    "    query_vec = np.mean(word_vecs, axis=0).reshape(1, -1)\n",
    "    similarities = cosine_similarity(query_vec, product_embeddings).flatten()\n",
    "    top_product_indices = similarities.argsort()[-top_n:][::-1]\n",
    "    return top_product_indices"
   ]
  },
  {
   "cell_type": "code",
   "execution_count": 40,
   "id": "83512257",
   "metadata": {},
   "outputs": [
    {
     "name": "stdout",
     "output_type": "stream",
     "text": [
      "Top products for 'armchair armchair':\n",
      "12756 24.41 '' wide tufted polyester armchair\n",
      "37139 schmucker 39 '' wide tufted armchair\n",
      "41306 hartsell 33 '' wide armchair\n",
      "1140 charnley 47 '' wide chenille armchair\n",
      "1141 colinton 41 '' wide chenille armchair\n",
      "41270 almaraz 33.7 '' wide leather match armchair\n",
      "29383 mikayla 27.75 '' wide armchair\n",
      "543 waytrim indoor chaise lounge sofa , folding lazy sofa floor chair 6-position folding padded , lounger bed with armrests and a pillow chaise couch - gray\n",
      "39722 alannis 27 '' wide armchair\n",
      "3879 marrone 23.75 '' wide tufted armchair\n"
     ]
    }
   ],
   "source": [
    "# Precompute embeddings for products\n",
    "product_embeddings = calculate_word2vec(product_df, model)\n",
    "\n",
    "# Enrich the query if needed (e.g., using expand_query)\n",
    "top_product_indices = get_top_products_word2vec(query, model, product_embeddings, top_n=10)\n",
    "\n",
    "# Retrieve product IDs\n",
    "top_product_ids = product_df.iloc[top_product_indices]['product_id'].tolist()\n",
    "\n",
    "print(f\"Top products for '{query}':\")\n",
    "for product_id in top_product_ids:\n",
    "    product = product_df.loc[product_df['product_id'] == product_id]\n",
    "    print(product_id, product['product_name'].values[0])                                                                             # calculate the MAP across the entire query set"
   ]
  },
  {
   "cell_type": "code",
   "execution_count": 56,
   "id": "3eb16ba5",
   "metadata": {},
   "outputs": [
    {
     "data": {
      "text/plain": [
       "0.18117363637198705"
      ]
     },
     "execution_count": 56,
     "metadata": {},
     "output_type": "execute_result"
    }
   ],
   "source": [
    "query_df['top_product_ids'] = query_df['expand_query'].apply(lambda q: get_top_products_word2vec(q, model, product_embeddings)) # Passing the enriched query to the function (Word2Vec)\n",
    "query_df['map@k'] = query_df.apply(lambda x: map_at_k(x['relevant_ids'], x['top_product_ids'], k=10), axis=1) # Now assign the map@k score\n",
    "query_df.loc[:, 'map@k'].mean()                                                                               # calculate the MAP across the entire query set"
   ]
  },
  {
   "cell_type": "markdown",
   "id": "fa93badf",
   "metadata": {},
   "source": [
    "⚠️ **Observation**: The Word2Vec model achieved significantly lower performance compared to BM25.  \n",
    "This suggests that the pretrained Word2Vec embeddings (e.g., GoogleNews) may not be well-aligned with our domain-specific vocabulary or context."
   ]
  }
 ],
 "metadata": {
  "kernelspec": {
   "display_name": "Python 3",
   "language": "python",
   "name": "python3"
  },
  "language_info": {
   "codemirror_mode": {
    "name": "ipython",
    "version": 3
   },
   "file_extension": ".py",
   "mimetype": "text/x-python",
   "name": "python",
   "nbconvert_exporter": "python",
   "pygments_lexer": "ipython3",
   "version": "3.11.9"
  }
 },
 "nbformat": 4,
 "nbformat_minor": 5
}
