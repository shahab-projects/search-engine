{
 "cells": [
  {
   "cell_type": "code",
   "execution_count": 2,
   "id": "8b781e47-2986-4c1d-b1f6-28361312aa93",
   "metadata": {
    "tags": []
   },
   "outputs": [
    {
     "name": "stderr",
     "output_type": "stream",
     "text": [
      "[nltk_data] Downloading package stopwords to\n",
      "[nltk_data]     C:\\Users\\Admin\\AppData\\Roaming\\nltk_data...\n",
      "[nltk_data]   Package stopwords is already up-to-date!\n",
      "[nltk_data] Downloading package wordnet to\n",
      "[nltk_data]     C:\\Users\\Admin\\AppData\\Roaming\\nltk_data...\n",
      "[nltk_data]   Package wordnet is already up-to-date!\n"
     ]
    },
    {
     "data": {
      "text/plain": [
       "True"
      ]
     },
     "execution_count": 2,
     "metadata": {},
     "output_type": "execute_result"
    }
   ],
   "source": [
    "import pandas as pd\n",
    "import numpy as np\n",
    "from sklearn.feature_extraction.text import TfidfVectorizer\n",
    "from sklearn.metrics.pairwise import cosine_similarity\n",
    "\n",
    "# dropping stopwords, Lemmatization \n",
    "import nltk                              # \n",
    "from nltk.corpus import stopwords        # removing stopwords\n",
    "from nltk.stem import WordNetLemmatizer  # stemmization / lemmetization\n",
    "from sklearn.pipeline import Pipeline    # \n",
    "from nltk.corpus import wordnet          # Enriching the query with also synonyms and semantically related words\n",
    "\n",
    "nltk.download('stopwords')  # Adding Stopwords to the preprocessing the data phase \n",
    "nltk.download('wordnet')    # conceptual relationships between words"
   ]
  },
  {
   "cell_type": "code",
   "execution_count": null,
   "id": "f2384d13-941a-4c49-b903-68c5cf55ac15",
   "metadata": {
    "tags": []
   },
   "outputs": [],
   "source": [
    "#clone the git repo that contains the data and additional information about the dataset\n",
    "!git clone https://github.com/wayfair/WANDS.git"
   ]
  },
  {
   "cell_type": "code",
   "execution_count": 4,
   "id": "42485468-77e2-4fc3-9a70-319a70603472",
   "metadata": {
    "tags": []
   },
   "outputs": [],
   "source": [
    "# Adding preprocess data phase before running the tf-IDF algorithm\n",
    "def preprocess_text(text):\n",
    "    stop_words = set(stopwords.words('english'))\n",
    "    lemmatizer = WordNetLemmatizer()\n",
    "    # Tokenize, remove stopwords, and lemmatize\n",
    "    tokens = text.lower().split()\n",
    "    tokens = [lemmatizer.lemmatize(word) for word in tokens if word not in stop_words]\n",
    "    return ' '.join(tokens)\n",
    "\n",
    "# Handling null values for more columns (product names, descriptions, class, hierarchy, features)\n",
    "def preprocess_dataframe(dataframe):\n",
    "    for col in dataframe:\n",
    "        if dataframe[col].dtype == 'object': \n",
    "            if dataframe[col].isna().sum() > 0: \n",
    "                print('Number of null values in', col, 'is:', dataframe[col].isna().sum())\n",
    "            dataframe[col] = dataframe[col].fillna('').apply(preprocess_text)\n",
    "    return dataframe\n",
    "\n",
    "# Defining functions for product search using Tf-IDF\n",
    "def calculate_tfidf(dataframe):\n",
    "    # combined_text = dataframe['product_name'] + ' ' + dataframe['product_description']\n",
    "    combined_text = dataframe['product_name'] # increasing the weight of product name by adding it twice\n",
    "    for col in dataframe:\n",
    "        if dataframe[col].dtype == 'object': combined_text += ' ' + dataframe[col] \n",
    "\n",
    "    # vectorizer = TfidfVectorizer()\n",
    "    vectorizer = TfidfVectorizer(ngram_range=(1, 2)) # adding biagram also\n",
    "    \n",
    "    # convert combined_text to list of unicode strings\n",
    "    tfidf_matrix = vectorizer.fit_transform(combined_text.values.astype('U'))\n",
    "    return vectorizer, tfidf_matrix\n",
    "\n",
    "def get_top_products(vectorizer, tfidf_matrix, query, top_n=10):\n",
    "    query_vector = vectorizer.transform([query])\n",
    "    cosine_similarities = cosine_similarity(query_vector, tfidf_matrix).flatten()\n",
    "    top_product_indices = cosine_similarities.argsort()[-top_n:][::-1]\n",
    "    return top_product_indices"
   ]
  },
  {
   "cell_type": "code",
   "execution_count": 5,
   "id": "8dd06913-4149-44c7-a876-787316e1b1a4",
   "metadata": {
    "tags": []
   },
   "outputs": [],
   "source": [
    "# Defining functions for evaluating retrieval performance\n",
    "def map_at_k(true_ids, predicted_ids, k=10):\n",
    "    #if either list is empty, return 0\n",
    "    if not len(true_ids) or not len(predicted_ids):\n",
    "        return 0.0\n",
    "\n",
    "    score = 0.0\n",
    "    num_hits = 0.0\n",
    "\n",
    "    for i, p_id in enumerate(predicted_ids[:k]):\n",
    "        if p_id in true_ids and p_id not in predicted_ids[:i]:\n",
    "            num_hits += 1.0\n",
    "            score += num_hits / (i + 1.0)\n",
    "\n",
    "    return score / min(len(true_ids), k)"
   ]
  },
  {
   "cell_type": "code",
   "execution_count": 6,
   "id": "2e6f66b3-37d1-48b0-a9f5-fb58003f4cd5",
   "metadata": {
    "tags": []
   },
   "outputs": [],
   "source": [
    "# get search queries\n",
    "query_df = pd.read_csv(r\"WANDS/dataset/query.csv\", sep='\\t')"
   ]
  },
  {
   "cell_type": "code",
   "execution_count": 7,
   "id": "041c7b89-1985-4dff-86e6-67353c96bdc6",
   "metadata": {
    "tags": []
   },
   "outputs": [
    {
     "data": {
      "text/html": [
       "<div>\n",
       "<style scoped>\n",
       "    .dataframe tbody tr th:only-of-type {\n",
       "        vertical-align: middle;\n",
       "    }\n",
       "\n",
       "    .dataframe tbody tr th {\n",
       "        vertical-align: top;\n",
       "    }\n",
       "\n",
       "    .dataframe thead th {\n",
       "        text-align: right;\n",
       "    }\n",
       "</style>\n",
       "<table border=\"1\" class=\"dataframe\">\n",
       "  <thead>\n",
       "    <tr style=\"text-align: right;\">\n",
       "      <th></th>\n",
       "      <th>query_id</th>\n",
       "      <th>query</th>\n",
       "      <th>query_class</th>\n",
       "    </tr>\n",
       "  </thead>\n",
       "  <tbody>\n",
       "    <tr>\n",
       "      <th>0</th>\n",
       "      <td>0</td>\n",
       "      <td>salon chair</td>\n",
       "      <td>Massage Chairs</td>\n",
       "    </tr>\n",
       "    <tr>\n",
       "      <th>1</th>\n",
       "      <td>1</td>\n",
       "      <td>smart coffee table</td>\n",
       "      <td>Coffee &amp; Cocktail Tables</td>\n",
       "    </tr>\n",
       "    <tr>\n",
       "      <th>2</th>\n",
       "      <td>2</td>\n",
       "      <td>dinosaur</td>\n",
       "      <td>Kids Wall Décor</td>\n",
       "    </tr>\n",
       "    <tr>\n",
       "      <th>3</th>\n",
       "      <td>3</td>\n",
       "      <td>turquoise pillows</td>\n",
       "      <td>Accent Pillows</td>\n",
       "    </tr>\n",
       "    <tr>\n",
       "      <th>4</th>\n",
       "      <td>4</td>\n",
       "      <td>chair and a half recliner</td>\n",
       "      <td>Recliners</td>\n",
       "    </tr>\n",
       "  </tbody>\n",
       "</table>\n",
       "</div>"
      ],
      "text/plain": [
       "   query_id                      query               query_class\n",
       "0         0                salon chair            Massage Chairs\n",
       "1         1         smart coffee table  Coffee & Cocktail Tables\n",
       "2         2                   dinosaur           Kids Wall Décor\n",
       "3         3          turquoise pillows            Accent Pillows\n",
       "4         4  chair and a half recliner                 Recliners"
      ]
     },
     "execution_count": 7,
     "metadata": {},
     "output_type": "execute_result"
    }
   ],
   "source": [
    "query_df.head()"
   ]
  },
  {
   "cell_type": "code",
   "execution_count": 8,
   "id": "d55b7820-00e2-4300-966c-8762d15fd407",
   "metadata": {
    "tags": []
   },
   "outputs": [],
   "source": [
    "# get products\n",
    "product_df = pd.read_csv(\"WANDS/dataset/product.csv\", sep='\\t')"
   ]
  },
  {
   "cell_type": "code",
   "execution_count": 9,
   "id": "b0d9c2a5-8c89-41fe-94d4-b0d57a09ca3c",
   "metadata": {
    "tags": []
   },
   "outputs": [
    {
     "data": {
      "text/html": [
       "<div>\n",
       "<style scoped>\n",
       "    .dataframe tbody tr th:only-of-type {\n",
       "        vertical-align: middle;\n",
       "    }\n",
       "\n",
       "    .dataframe tbody tr th {\n",
       "        vertical-align: top;\n",
       "    }\n",
       "\n",
       "    .dataframe thead th {\n",
       "        text-align: right;\n",
       "    }\n",
       "</style>\n",
       "<table border=\"1\" class=\"dataframe\">\n",
       "  <thead>\n",
       "    <tr style=\"text-align: right;\">\n",
       "      <th></th>\n",
       "      <th>product_id</th>\n",
       "      <th>product_name</th>\n",
       "      <th>product_class</th>\n",
       "      <th>category hierarchy</th>\n",
       "      <th>product_description</th>\n",
       "      <th>product_features</th>\n",
       "      <th>rating_count</th>\n",
       "      <th>average_rating</th>\n",
       "      <th>review_count</th>\n",
       "    </tr>\n",
       "  </thead>\n",
       "  <tbody>\n",
       "    <tr>\n",
       "      <th>0</th>\n",
       "      <td>0</td>\n",
       "      <td>solid wood platform bed</td>\n",
       "      <td>Beds</td>\n",
       "      <td>Furniture / Bedroom Furniture / Beds &amp; Headboa...</td>\n",
       "      <td>good , deep sleep can be quite difficult to ha...</td>\n",
       "      <td>overallwidth-sidetoside:64.7|dsprimaryproducts...</td>\n",
       "      <td>15.0</td>\n",
       "      <td>4.5</td>\n",
       "      <td>15.0</td>\n",
       "    </tr>\n",
       "    <tr>\n",
       "      <th>1</th>\n",
       "      <td>1</td>\n",
       "      <td>all-clad 7 qt . slow cooker</td>\n",
       "      <td>Slow Cookers</td>\n",
       "      <td>Kitchen &amp; Tabletop / Small Kitchen Appliances ...</td>\n",
       "      <td>create delicious slow-cooked meals , from tend...</td>\n",
       "      <td>capacityquarts:7|producttype : slow cooker|pro...</td>\n",
       "      <td>100.0</td>\n",
       "      <td>2.0</td>\n",
       "      <td>98.0</td>\n",
       "    </tr>\n",
       "    <tr>\n",
       "      <th>2</th>\n",
       "      <td>2</td>\n",
       "      <td>all-clad electrics 6.5 qt . slow cooker</td>\n",
       "      <td>Slow Cookers</td>\n",
       "      <td>Kitchen &amp; Tabletop / Small Kitchen Appliances ...</td>\n",
       "      <td>prepare home-cooked meals on any schedule with...</td>\n",
       "      <td>features : keep warm setting|capacityquarts:6....</td>\n",
       "      <td>208.0</td>\n",
       "      <td>3.0</td>\n",
       "      <td>181.0</td>\n",
       "    </tr>\n",
       "    <tr>\n",
       "      <th>3</th>\n",
       "      <td>3</td>\n",
       "      <td>all-clad all professional tools pizza cutter</td>\n",
       "      <td>Slicers, Peelers And Graters</td>\n",
       "      <td>Browse By Brand / All-Clad</td>\n",
       "      <td>this original stainless tool was designed to c...</td>\n",
       "      <td>overallwidth-sidetoside:3.5|warrantylength : l...</td>\n",
       "      <td>69.0</td>\n",
       "      <td>4.5</td>\n",
       "      <td>42.0</td>\n",
       "    </tr>\n",
       "    <tr>\n",
       "      <th>4</th>\n",
       "      <td>4</td>\n",
       "      <td>baldwin prestige alcott passage knob with roun...</td>\n",
       "      <td>Door Knobs</td>\n",
       "      <td>Home Improvement / Doors &amp; Door Hardware / Doo...</td>\n",
       "      <td>the hardware has a rich heritage of delivering...</td>\n",
       "      <td>compatibledoorthickness:1.375 '' |countryofori...</td>\n",
       "      <td>70.0</td>\n",
       "      <td>5.0</td>\n",
       "      <td>42.0</td>\n",
       "    </tr>\n",
       "  </tbody>\n",
       "</table>\n",
       "</div>"
      ],
      "text/plain": [
       "   product_id                                       product_name  \\\n",
       "0           0                            solid wood platform bed   \n",
       "1           1                        all-clad 7 qt . slow cooker   \n",
       "2           2            all-clad electrics 6.5 qt . slow cooker   \n",
       "3           3       all-clad all professional tools pizza cutter   \n",
       "4           4  baldwin prestige alcott passage knob with roun...   \n",
       "\n",
       "                  product_class  \\\n",
       "0                          Beds   \n",
       "1                  Slow Cookers   \n",
       "2                  Slow Cookers   \n",
       "3  Slicers, Peelers And Graters   \n",
       "4                    Door Knobs   \n",
       "\n",
       "                                  category hierarchy  \\\n",
       "0  Furniture / Bedroom Furniture / Beds & Headboa...   \n",
       "1  Kitchen & Tabletop / Small Kitchen Appliances ...   \n",
       "2  Kitchen & Tabletop / Small Kitchen Appliances ...   \n",
       "3                         Browse By Brand / All-Clad   \n",
       "4  Home Improvement / Doors & Door Hardware / Doo...   \n",
       "\n",
       "                                 product_description  \\\n",
       "0  good , deep sleep can be quite difficult to ha...   \n",
       "1  create delicious slow-cooked meals , from tend...   \n",
       "2  prepare home-cooked meals on any schedule with...   \n",
       "3  this original stainless tool was designed to c...   \n",
       "4  the hardware has a rich heritage of delivering...   \n",
       "\n",
       "                                    product_features  rating_count  \\\n",
       "0  overallwidth-sidetoside:64.7|dsprimaryproducts...          15.0   \n",
       "1  capacityquarts:7|producttype : slow cooker|pro...         100.0   \n",
       "2  features : keep warm setting|capacityquarts:6....         208.0   \n",
       "3  overallwidth-sidetoside:3.5|warrantylength : l...          69.0   \n",
       "4  compatibledoorthickness:1.375 '' |countryofori...          70.0   \n",
       "\n",
       "   average_rating  review_count  \n",
       "0             4.5          15.0  \n",
       "1             2.0          98.0  \n",
       "2             3.0         181.0  \n",
       "3             4.5          42.0  \n",
       "4             5.0          42.0  "
      ]
     },
     "execution_count": 9,
     "metadata": {},
     "output_type": "execute_result"
    }
   ],
   "source": [
    "product_df.head()"
   ]
  },
  {
   "cell_type": "code",
   "execution_count": 10,
   "id": "61d75f84-1152-43c7-b2a0-422267ab2298",
   "metadata": {
    "tags": []
   },
   "outputs": [],
   "source": [
    "# get manually labeled groundtruth lables\n",
    "label_df = pd.read_csv(\"WANDS/dataset/label.csv\", sep='\\t')"
   ]
  },
  {
   "cell_type": "code",
   "execution_count": 11,
   "id": "07b8f157-2049-4cdb-afc4-62e546d59dc9",
   "metadata": {
    "tags": []
   },
   "outputs": [
    {
     "data": {
      "text/html": [
       "<div>\n",
       "<style scoped>\n",
       "    .dataframe tbody tr th:only-of-type {\n",
       "        vertical-align: middle;\n",
       "    }\n",
       "\n",
       "    .dataframe tbody tr th {\n",
       "        vertical-align: top;\n",
       "    }\n",
       "\n",
       "    .dataframe thead th {\n",
       "        text-align: right;\n",
       "    }\n",
       "</style>\n",
       "<table border=\"1\" class=\"dataframe\">\n",
       "  <thead>\n",
       "    <tr style=\"text-align: right;\">\n",
       "      <th></th>\n",
       "      <th>id</th>\n",
       "      <th>query_id</th>\n",
       "      <th>product_id</th>\n",
       "      <th>label</th>\n",
       "    </tr>\n",
       "  </thead>\n",
       "  <tbody>\n",
       "    <tr>\n",
       "      <th>0</th>\n",
       "      <td>0</td>\n",
       "      <td>0</td>\n",
       "      <td>25434</td>\n",
       "      <td>Exact</td>\n",
       "    </tr>\n",
       "    <tr>\n",
       "      <th>1</th>\n",
       "      <td>1</td>\n",
       "      <td>0</td>\n",
       "      <td>12088</td>\n",
       "      <td>Irrelevant</td>\n",
       "    </tr>\n",
       "    <tr>\n",
       "      <th>2</th>\n",
       "      <td>2</td>\n",
       "      <td>0</td>\n",
       "      <td>42931</td>\n",
       "      <td>Exact</td>\n",
       "    </tr>\n",
       "    <tr>\n",
       "      <th>3</th>\n",
       "      <td>3</td>\n",
       "      <td>0</td>\n",
       "      <td>2636</td>\n",
       "      <td>Exact</td>\n",
       "    </tr>\n",
       "    <tr>\n",
       "      <th>4</th>\n",
       "      <td>4</td>\n",
       "      <td>0</td>\n",
       "      <td>42923</td>\n",
       "      <td>Exact</td>\n",
       "    </tr>\n",
       "  </tbody>\n",
       "</table>\n",
       "</div>"
      ],
      "text/plain": [
       "   id  query_id  product_id       label\n",
       "0   0         0       25434       Exact\n",
       "1   1         0       12088  Irrelevant\n",
       "2   2         0       42931       Exact\n",
       "3   3         0        2636       Exact\n",
       "4   4         0       42923       Exact"
      ]
     },
     "execution_count": 11,
     "metadata": {},
     "output_type": "execute_result"
    }
   ],
   "source": [
    "label_df.head()"
   ]
  },
  {
   "cell_type": "code",
   "execution_count": 12,
   "id": "59768978-5c40-45b0-84a7-d6cc5d469b5a",
   "metadata": {
    "tags": []
   },
   "outputs": [],
   "source": [
    "#group the labels for each query to use when identifying exact matches\n",
    "grouped_label_df = label_df.groupby('query_id')"
   ]
  },
  {
   "cell_type": "code",
   "execution_count": 13,
   "id": "3c2f203d",
   "metadata": {},
   "outputs": [
    {
     "name": "stdout",
     "output_type": "stream",
     "text": [
      "Number of null values in product_class is: 2852\n",
      "Number of null values in category hierarchy is: 1556\n",
      "Number of null values in product_description is: 6008\n"
     ]
    }
   ],
   "source": [
    "# Preprocess of data - finding null values in product names and descriptions\n",
    "new_df = preprocess_dataframe(product_df)"
   ]
  },
  {
   "cell_type": "code",
   "execution_count": 13,
   "id": "5d364dbc",
   "metadata": {},
   "outputs": [
    {
     "data": {
      "text/html": [
       "<div>\n",
       "<style scoped>\n",
       "    .dataframe tbody tr th:only-of-type {\n",
       "        vertical-align: middle;\n",
       "    }\n",
       "\n",
       "    .dataframe tbody tr th {\n",
       "        vertical-align: top;\n",
       "    }\n",
       "\n",
       "    .dataframe thead th {\n",
       "        text-align: right;\n",
       "    }\n",
       "</style>\n",
       "<table border=\"1\" class=\"dataframe\">\n",
       "  <thead>\n",
       "    <tr style=\"text-align: right;\">\n",
       "      <th></th>\n",
       "      <th>product_id</th>\n",
       "      <th>product_name</th>\n",
       "      <th>product_class</th>\n",
       "      <th>category hierarchy</th>\n",
       "      <th>product_description</th>\n",
       "      <th>product_features</th>\n",
       "      <th>rating_count</th>\n",
       "      <th>average_rating</th>\n",
       "      <th>review_count</th>\n",
       "    </tr>\n",
       "  </thead>\n",
       "  <tbody>\n",
       "    <tr>\n",
       "      <th>0</th>\n",
       "      <td>0</td>\n",
       "      <td>solid wood platform bed</td>\n",
       "      <td>bed</td>\n",
       "      <td>furniture / bedroom furniture / bed &amp; headboar...</td>\n",
       "      <td>good , deep sleep quite difficult busy age . f...</td>\n",
       "      <td>overallwidth-sidetoside:64.7|dsprimaryproducts...</td>\n",
       "      <td>15.0</td>\n",
       "      <td>4.5</td>\n",
       "      <td>15.0</td>\n",
       "    </tr>\n",
       "    <tr>\n",
       "      <th>1</th>\n",
       "      <td>1</td>\n",
       "      <td>all-clad 7 qt . slow cooker</td>\n",
       "      <td>slow cooker</td>\n",
       "      <td>kitchen &amp; tabletop / small kitchen appliance /...</td>\n",
       "      <td>create delicious slow-cooked meal , tender mea...</td>\n",
       "      <td>capacityquarts:7|producttype : slow cooker|pro...</td>\n",
       "      <td>100.0</td>\n",
       "      <td>2.0</td>\n",
       "      <td>98.0</td>\n",
       "    </tr>\n",
       "    <tr>\n",
       "      <th>2</th>\n",
       "      <td>2</td>\n",
       "      <td>all-clad electric 6.5 qt . slow cooker</td>\n",
       "      <td>slow cooker</td>\n",
       "      <td>kitchen &amp; tabletop / small kitchen appliance /...</td>\n",
       "      <td>prepare home-cooked meal schedule essential sl...</td>\n",
       "      <td>feature : keep warm setting|capacityquarts:6.5...</td>\n",
       "      <td>208.0</td>\n",
       "      <td>3.0</td>\n",
       "      <td>181.0</td>\n",
       "    </tr>\n",
       "    <tr>\n",
       "      <th>3</th>\n",
       "      <td>3</td>\n",
       "      <td>all-clad professional tool pizza cutter</td>\n",
       "      <td>slicers, peeler grater</td>\n",
       "      <td>browse brand / all-clad</td>\n",
       "      <td>original stainless tool designed complement ma...</td>\n",
       "      <td>overallwidth-sidetoside:3.5|warrantylength : l...</td>\n",
       "      <td>69.0</td>\n",
       "      <td>4.5</td>\n",
       "      <td>42.0</td>\n",
       "    </tr>\n",
       "    <tr>\n",
       "      <th>4</th>\n",
       "      <td>4</td>\n",
       "      <td>baldwin prestige alcott passage knob round ros...</td>\n",
       "      <td>door knob</td>\n",
       "      <td>home improvement / door &amp; door hardware / door...</td>\n",
       "      <td>hardware rich heritage delivering modern luxur...</td>\n",
       "      <td>compatibledoorthickness:1.375 '' |countryofori...</td>\n",
       "      <td>70.0</td>\n",
       "      <td>5.0</td>\n",
       "      <td>42.0</td>\n",
       "    </tr>\n",
       "  </tbody>\n",
       "</table>\n",
       "</div>"
      ],
      "text/plain": [
       "   product_id                                       product_name  \\\n",
       "0           0                            solid wood platform bed   \n",
       "1           1                        all-clad 7 qt . slow cooker   \n",
       "2           2             all-clad electric 6.5 qt . slow cooker   \n",
       "3           3            all-clad professional tool pizza cutter   \n",
       "4           4  baldwin prestige alcott passage knob round ros...   \n",
       "\n",
       "            product_class                                 category hierarchy  \\\n",
       "0                     bed  furniture / bedroom furniture / bed & headboar...   \n",
       "1             slow cooker  kitchen & tabletop / small kitchen appliance /...   \n",
       "2             slow cooker  kitchen & tabletop / small kitchen appliance /...   \n",
       "3  slicers, peeler grater                            browse brand / all-clad   \n",
       "4               door knob  home improvement / door & door hardware / door...   \n",
       "\n",
       "                                 product_description  \\\n",
       "0  good , deep sleep quite difficult busy age . f...   \n",
       "1  create delicious slow-cooked meal , tender mea...   \n",
       "2  prepare home-cooked meal schedule essential sl...   \n",
       "3  original stainless tool designed complement ma...   \n",
       "4  hardware rich heritage delivering modern luxur...   \n",
       "\n",
       "                                    product_features  rating_count  \\\n",
       "0  overallwidth-sidetoside:64.7|dsprimaryproducts...          15.0   \n",
       "1  capacityquarts:7|producttype : slow cooker|pro...         100.0   \n",
       "2  feature : keep warm setting|capacityquarts:6.5...         208.0   \n",
       "3  overallwidth-sidetoside:3.5|warrantylength : l...          69.0   \n",
       "4  compatibledoorthickness:1.375 '' |countryofori...          70.0   \n",
       "\n",
       "   average_rating  review_count  \n",
       "0             4.5          15.0  \n",
       "1             2.0          98.0  \n",
       "2             3.0         181.0  \n",
       "3             4.5          42.0  \n",
       "4             5.0          42.0  "
      ]
     },
     "execution_count": 13,
     "metadata": {},
     "output_type": "execute_result"
    }
   ],
   "source": [
    "new_df.head()"
   ]
  },
  {
   "cell_type": "code",
   "execution_count": 17,
   "id": "b1beab6d-1f59-427b-ad9f-1f0c6fcaadcc",
   "metadata": {
    "tags": []
   },
   "outputs": [],
   "source": [
    "# Calculate TF-IDF\n",
    "# vectorizer, tfidf_matrix = calculate_tfidf(product_df)\n",
    "vectorizer, tfidf_matrix = calculate_tfidf(new_df) # Using new enriched dataframe (having more columns to compare with the query)"
   ]
  },
  {
   "cell_type": "code",
   "execution_count": 24,
   "id": "3e4b8333-b747-4c3e-87bc-4825f934ab6f",
   "metadata": {
    "tags": []
   },
   "outputs": [
    {
     "name": "stdout",
     "output_type": "stream",
     "text": [
      "Top products for 'armchair armchair':\n",
      "12756 24.41 '' wide tufted polyester armchair 24.41 '' wide tufted polyester armchair accent chair furniture / living room furniture / chair & seating / accent chair / arm accent chair nothing make contemporary design statement like armchair . armchair design tone allowing dramatic upholstery silhouette retain u shape leisure chair living room . modern style armchair generous padding simple stitch . backheight-seattotopofback:14|levelofassembly : partial assembly|upholsterycolor : gray|armmaterial : fabric|overalldepth-fronttoback:27.56|framematerial : manufactured wood|armtype : flared arms|backfillmaterial : foam|legcolor : black|overallproductweight:59.66|seatwidth-sidetoside:19.69|seatconstruction : web suspension|waterrepellant : resiliency|productcare : clean professional cleaner only|removablecushionlocation : seat|cushionconstruction : foam|minimumdoorwidth-sidetoside:26|dssecondaryproductstyle : mid-century modern|dsprimaryproductstyle : modern|supplierintendedandapproveduse : non residential use|design : armchair|pattern : solid color|legmaterial : solid wood|seatfillmaterial : foam|overallwidth-sidetoside:24.41|overallheight-toptobottom:27.56|seatdepth-fronttoback:19.69|weightcapacity:250|seatheight-floortoseat:17.72|legmaterialdetails : wood|armheight-floortoarm:24.26|warrantylength:1 year|backtype : cushion back|upholsterymaterial : polyester blend|numberofchairsincluded:1|slipcovered : no|doublerubtested : no|scscertified : no|generalcertificateofconformitygcc : no|oeko-texcertified : no|ottomanincluded : no|ansibifmax54loungepublicseating : no|reversiblecushions : no|nfpacompliant : no|canadaproductrestriction : no|containsflameretardantmaterials : no|bhftiupholsteredfurnitureflammabilitycompliant : no| : no|nailheadtrim : no|organic : no|gsaapproved : no|caltb116compliant : no|tosspillowsincluded : no|ansibifmax51officeseating : no|caltb117-2013compliant : no|swivel : no|mattressincluded : no|adultassemblyrequired : yes|firacertified : yes|removablecushions : yes|productwarranty : yes|armsincluded : yes|tscatitlevicompliantformaldehydeemissions : yes|tuftedcushions : yes|weightcapacitygreaterthan250lbs : yes|commercialwarranty : yes| : yes|firerated : yes|carbphaseiicompliantformaldehydeemissions : yes|uniformpackagingandlabelingregulationsuplrcompliant : yes|removablecushioncover : yes|upholstered : yes|compositewoodproductcwp : yes|fullorlimitedwarranty : limited|purposefuldistressingtype : distressing|supplierintendedandapproveduse : residential use 24.41 '' wide tufted polyester armchair 24.41 '' wide tufted polyester armchair accent chair furniture / living room furniture / chair & seating / accent chair / arm accent chair nothing make contemporary design statement like armchair . armchair design tone allowing dramatic upholstery silhouette retain u shape leisure chair living room . modern style armchair generous padding simple stitch . backheight-seattotopofback:14|levelofassembly : partial assembly|upholsterycolor : gray|armmaterial : fabric|overalldepth-fronttoback:27.56|framematerial : manufactured wood|armtype : flared arms|backfillmaterial : foam|legcolor : black|overallproductweight:59.66|seatwidth-sidetoside:19.69|seatconstruction : web suspension|waterrepellant : resiliency|productcare : clean professional cleaner only|removablecushionlocation : seat|cushionconstruction : foam|minimumdoorwidth-sidetoside:26|dssecondaryproductstyle : mid-century modern|dsprimaryproductstyle : modern|supplierintendedandapproveduse : non residential use|design : armchair|pattern : solid color|legmaterial : solid wood|seatfillmaterial : foam|overallwidth-sidetoside:24.41|overallheight-toptobottom:27.56|seatdepth-fronttoback:19.69|weightcapacity:250|seatheight-floortoseat:17.72|legmaterialdetails : wood|armheight-floortoarm:24.26|warrantylength:1 year|backtype : cushion back|upholsterymaterial : polyester blend|numberofchairsincluded:1|slipcovered : no|doublerubtested : no|scscertified : no|generalcertificateofconformitygcc : no|oeko-texcertified : no|ottomanincluded : no|ansibifmax54loungepublicseating : no|reversiblecushions : no|nfpacompliant : no|canadaproductrestriction : no|containsflameretardantmaterials : no|bhftiupholsteredfurnitureflammabilitycompliant : no| : no|nailheadtrim : no|organic : no|gsaapproved : no|caltb116compliant : no|tosspillowsincluded : no|ansibifmax51officeseating : no|caltb117-2013compliant : no|swivel : no|mattressincluded : no|adultassemblyrequired : yes|firacertified : yes|removablecushions : yes|productwarranty : yes|armsincluded : yes|tscatitlevicompliantformaldehydeemissions : yes|tuftedcushions : yes|weightcapacitygreaterthan250lbs : yes|commercialwarranty : yes| : yes|firerated : yes|carbphaseiicompliantformaldehydeemissions : yes|uniformpackagingandlabelingregulationsuplrcompliant : yes|removablecushioncover : yes|upholstered : yes|compositewoodproductcwp : yes|fullorlimitedwarranty : limited|purposefuldistressingtype : distressing|supplierintendedandapproveduse : residential use accent chair furniture / living room furniture / chair & seating / accent chair / arm accent chair nothing make contemporary design statement like armchair . armchair design tone allowing dramatic upholstery silhouette retain u shape leisure chair living room . modern style armchair generous padding simple stitch . backheight-seattotopofback:14|levelofassembly : partial assembly|upholsterycolor : gray|armmaterial : fabric|overalldepth-fronttoback:27.56|framematerial : manufactured wood|armtype : flared arms|backfillmaterial : foam|legcolor : black|overallproductweight:59.66|seatwidth-sidetoside:19.69|seatconstruction : web suspension|waterrepellant : resiliency|productcare : clean professional cleaner only|removablecushionlocation : seat|cushionconstruction : foam|minimumdoorwidth-sidetoside:26|dssecondaryproductstyle : mid-century modern|dsprimaryproductstyle : modern|supplierintendedandapproveduse : non residential use|design : armchair|pattern : solid color|legmaterial : solid wood|seatfillmaterial : foam|overallwidth-sidetoside:24.41|overallheight-toptobottom:27.56|seatdepth-fronttoback:19.69|weightcapacity:250|seatheight-floortoseat:17.72|legmaterialdetails : wood|armheight-floortoarm:24.26|warrantylength:1 year|backtype : cushion back|upholsterymaterial : polyester blend|numberofchairsincluded:1|slipcovered : no|doublerubtested : no|scscertified : no|generalcertificateofconformitygcc : no|oeko-texcertified : no|ottomanincluded : no|ansibifmax54loungepublicseating : no|reversiblecushions : no|nfpacompliant : no|canadaproductrestriction : no|containsflameretardantmaterials : no|bhftiupholsteredfurnitureflammabilitycompliant : no| : no|nailheadtrim : no|organic : no|gsaapproved : no|caltb116compliant : no|tosspillowsincluded : no|ansibifmax51officeseating : no|caltb117-2013compliant : no|swivel : no|mattressincluded : no|adultassemblyrequired : yes|firacertified : yes|removablecushions : yes|productwarranty : yes|armsincluded : yes|tscatitlevicompliantformaldehydeemissions : yes|tuftedcushions : yes|weightcapacitygreaterthan250lbs : yes|commercialwarranty : yes| : yes|firerated : yes|carbphaseiicompliantformaldehydeemissions : yes|uniformpackagingandlabelingregulationsuplrcompliant : yes|removablecushioncover : yes|upholstered : yes|compositewoodproductcwp : yes|fullorlimitedwarranty : limited|purposefuldistressingtype : distressing|supplierintendedandapproveduse : residential use\n",
      "31564 biloxi 34.75 '' wide armchair biloxi 34.75 '' wide armchair accent chair furniture / living room furniture / chair & seating / accent chair / arm accent chair armchair perfect combination style comfort . contemporary design help blend existing furniture . frame armchair made plywood birch . sport exquisite espresso finish add overall appeal . faux leather upholstery enhances look armchair . feature elegant teal blue color add home decor . armchair seat cushion filled foam , provides superior comfort . seat cushion cover removed easy cleaning . chair round wooden arm provide comfort enhance ergonomic design chair . leg club chair made wood easily removed . armchair enhances comfort living room . requires assembly without need tool additional part . eco-friendly , armchair ideally suited people care environment . wiped clean soft dry cloth . ensures easy maintenance keep looking good long time . backfillmaterial : foam| : espresso wood|fauxleathertype : bonded leather|upholsterymaterial : faux leather|armmaterial : wood|armheight-floortoarm:23.75|seatconstruction : sinuous springs|seatconstruction : mdf|seatdepth-fronttoback:22|pattern : solid color|overallwidth-sidetoside:34.75|seatheight-floortoseat:20.5|overallheight-toptobottom:32.5|waterrepellant : resiliency|dssecondaryproductstyle : ultra-modern|seatwidth-sidetoside:21.25|legcolor : espresso|overalldepth-fronttoback:33.75|style : traditional|productcare : place direct sunlight|design : armchair|seatfillmaterialdetails : polyurethane foam|backfillmaterialdetails : polyurethane foam|removablecushionlocation : seat|armtype : round arms|overallproductweight:51|dsprimaryproductstyle : modern|dswoodtone : espresso wood|upholsterymaterialdetails : bonded leather|legheight-toptobottom:3.25|numberofchairsincluded:1|californiaproposition65warningrequired : no|nailheadtrim : no|legaldocumentation : no|slipcovered : no|commercialwarranty : no|swivel : no| : no|tscatitlevicompliantformaldehydeemissions : no|ottomanincluded : no|tosspillowsincluded : no|tuftedcushions : no|mattressincluded : no|removablecushions : yes|carbphaseiicompliantformaldehydeemissions : yes|compositewoodproductcwp : yes|adultassemblyrequired : yes|upholstered : yes|armsincluded : yes|countryoforigin : china|purposefuldistressingtype : distressing|supplierintendedandapproveduse : residential use biloxi 34.75 '' wide armchair biloxi 34.75 '' wide armchair accent chair furniture / living room furniture / chair & seating / accent chair / arm accent chair armchair perfect combination style comfort . contemporary design help blend existing furniture . frame armchair made plywood birch . sport exquisite espresso finish add overall appeal . faux leather upholstery enhances look armchair . feature elegant teal blue color add home decor . armchair seat cushion filled foam , provides superior comfort . seat cushion cover removed easy cleaning . chair round wooden arm provide comfort enhance ergonomic design chair . leg club chair made wood easily removed . armchair enhances comfort living room . requires assembly without need tool additional part . eco-friendly , armchair ideally suited people care environment . wiped clean soft dry cloth . ensures easy maintenance keep looking good long time . backfillmaterial : foam| : espresso wood|fauxleathertype : bonded leather|upholsterymaterial : faux leather|armmaterial : wood|armheight-floortoarm:23.75|seatconstruction : sinuous springs|seatconstruction : mdf|seatdepth-fronttoback:22|pattern : solid color|overallwidth-sidetoside:34.75|seatheight-floortoseat:20.5|overallheight-toptobottom:32.5|waterrepellant : resiliency|dssecondaryproductstyle : ultra-modern|seatwidth-sidetoside:21.25|legcolor : espresso|overalldepth-fronttoback:33.75|style : traditional|productcare : place direct sunlight|design : armchair|seatfillmaterialdetails : polyurethane foam|backfillmaterialdetails : polyurethane foam|removablecushionlocation : seat|armtype : round arms|overallproductweight:51|dsprimaryproductstyle : modern|dswoodtone : espresso wood|upholsterymaterialdetails : bonded leather|legheight-toptobottom:3.25|numberofchairsincluded:1|californiaproposition65warningrequired : no|nailheadtrim : no|legaldocumentation : no|slipcovered : no|commercialwarranty : no|swivel : no| : no|tscatitlevicompliantformaldehydeemissions : no|ottomanincluded : no|tosspillowsincluded : no|tuftedcushions : no|mattressincluded : no|removablecushions : yes|carbphaseiicompliantformaldehydeemissions : yes|compositewoodproductcwp : yes|adultassemblyrequired : yes|upholstered : yes|armsincluded : yes|countryoforigin : china|purposefuldistressingtype : distressing|supplierintendedandapproveduse : residential use accent chair furniture / living room furniture / chair & seating / accent chair / arm accent chair armchair perfect combination style comfort . contemporary design help blend existing furniture . frame armchair made plywood birch . sport exquisite espresso finish add overall appeal . faux leather upholstery enhances look armchair . feature elegant teal blue color add home decor . armchair seat cushion filled foam , provides superior comfort . seat cushion cover removed easy cleaning . chair round wooden arm provide comfort enhance ergonomic design chair . leg club chair made wood easily removed . armchair enhances comfort living room . requires assembly without need tool additional part . eco-friendly , armchair ideally suited people care environment . wiped clean soft dry cloth . ensures easy maintenance keep looking good long time . backfillmaterial : foam| : espresso wood|fauxleathertype : bonded leather|upholsterymaterial : faux leather|armmaterial : wood|armheight-floortoarm:23.75|seatconstruction : sinuous springs|seatconstruction : mdf|seatdepth-fronttoback:22|pattern : solid color|overallwidth-sidetoside:34.75|seatheight-floortoseat:20.5|overallheight-toptobottom:32.5|waterrepellant : resiliency|dssecondaryproductstyle : ultra-modern|seatwidth-sidetoside:21.25|legcolor : espresso|overalldepth-fronttoback:33.75|style : traditional|productcare : place direct sunlight|design : armchair|seatfillmaterialdetails : polyurethane foam|backfillmaterialdetails : polyurethane foam|removablecushionlocation : seat|armtype : round arms|overallproductweight:51|dsprimaryproductstyle : modern|dswoodtone : espresso wood|upholsterymaterialdetails : bonded leather|legheight-toptobottom:3.25|numberofchairsincluded:1|californiaproposition65warningrequired : no|nailheadtrim : no|legaldocumentation : no|slipcovered : no|commercialwarranty : no|swivel : no| : no|tscatitlevicompliantformaldehydeemissions : no|ottomanincluded : no|tosspillowsincluded : no|tuftedcushions : no|mattressincluded : no|removablecushions : yes|carbphaseiicompliantformaldehydeemissions : yes|compositewoodproductcwp : yes|adultassemblyrequired : yes|upholstered : yes|armsincluded : yes|countryoforigin : china|purposefuldistressingtype : distressing|supplierintendedandapproveduse : residential use\n",
      "42698 donham armchair donham armchair accent chair furniture / living room furniture / chair & seating / accent chair traditional design get contemporary update streamlined armchair . founded solid manufactured wood frame , armchair feature full back , track arm , round tapered leg . enveloped pu faux leather upholstery , armchair showcase detail stitching tailored touch , coil spring foam-filled cushioning provide comfort support . made usa , armchair measure 34.5 '' h x 28 '' w x 30 '' overall 350 lb . weight capacity 17.5 '' seat height . framematerial : solid + manufactured wood|productcare : spot cleaned mild detergent warm water|framematerialdetails : expanded polystyrene|upholsterymaterial : faux leather|overalldepth-fronttoback:30|weightcapacity:350|supplierintendedandapproveduse : non residential use|armheight-floortoarm:22|seatconstruction : coil spring|upholsterymaterialdetails : leatherette|armmaterial : leather|overallheight-toptobottom:0|style : modern & contemporary|seatdepth-fronttoback:20|dssecondaryproductstyle : mid-century modern|seatheight-floortoseat:17.5|woodspecies : fir|dsprimaryproductstyle : modern|removablecushionlocation : seat|armtype : square arms|countryoforigin-additionaldetails : made usa|overallproductweight:29|countryoforigin : united states|waterrepellant : resiliency|design : armchair|fauxleathertype : pu|warrantylength:25 years|seatwidth-sidetoside:20|seatfillmaterial : foam|backheight-seattotopofback:21|overallheight-toptobottom:34.5|pattern : solid color|minimumdoorwidth-sidetoside:25|numberofchairsincluded:1|commercialwarranty : no|ottomanincluded : no|swivel : no|legaldocumentation : no|slipcovered : no|tuftedcushions : no|customproduct : no|tosspillowsincluded : no| : no|nailheadtrim : no|mattressincluded : no|armsincluded : yes|adultassemblyrequired : yes|removablecushions : yes|carbphaseiicompliantformaldehydeemissions : yes|weightcapacitygreaterthan250lbs : yes|productwarranty : yes|tscatitlevicompliantformaldehydeemissions : yes|compositewoodproductcwp : yes|upholstered : yes|purposefuldistressingtype : distressing|supplierintendedandapproveduse : residential use donham armchair donham armchair accent chair furniture / living room furniture / chair & seating / accent chair traditional design get contemporary update streamlined armchair . founded solid manufactured wood frame , armchair feature full back , track arm , round tapered leg . enveloped pu faux leather upholstery , armchair showcase detail stitching tailored touch , coil spring foam-filled cushioning provide comfort support . made usa , armchair measure 34.5 '' h x 28 '' w x 30 '' overall 350 lb . weight capacity 17.5 '' seat height . framematerial : solid + manufactured wood|productcare : spot cleaned mild detergent warm water|framematerialdetails : expanded polystyrene|upholsterymaterial : faux leather|overalldepth-fronttoback:30|weightcapacity:350|supplierintendedandapproveduse : non residential use|armheight-floortoarm:22|seatconstruction : coil spring|upholsterymaterialdetails : leatherette|armmaterial : leather|overallheight-toptobottom:0|style : modern & contemporary|seatdepth-fronttoback:20|dssecondaryproductstyle : mid-century modern|seatheight-floortoseat:17.5|woodspecies : fir|dsprimaryproductstyle : modern|removablecushionlocation : seat|armtype : square arms|countryoforigin-additionaldetails : made usa|overallproductweight:29|countryoforigin : united states|waterrepellant : resiliency|design : armchair|fauxleathertype : pu|warrantylength:25 years|seatwidth-sidetoside:20|seatfillmaterial : foam|backheight-seattotopofback:21|overallheight-toptobottom:34.5|pattern : solid color|minimumdoorwidth-sidetoside:25|numberofchairsincluded:1|commercialwarranty : no|ottomanincluded : no|swivel : no|legaldocumentation : no|slipcovered : no|tuftedcushions : no|customproduct : no|tosspillowsincluded : no| : no|nailheadtrim : no|mattressincluded : no|armsincluded : yes|adultassemblyrequired : yes|removablecushions : yes|carbphaseiicompliantformaldehydeemissions : yes|weightcapacitygreaterthan250lbs : yes|productwarranty : yes|tscatitlevicompliantformaldehydeemissions : yes|compositewoodproductcwp : yes|upholstered : yes|purposefuldistressingtype : distressing|supplierintendedandapproveduse : residential use accent chair furniture / living room furniture / chair & seating / accent chair traditional design get contemporary update streamlined armchair . founded solid manufactured wood frame , armchair feature full back , track arm , round tapered leg . enveloped pu faux leather upholstery , armchair showcase detail stitching tailored touch , coil spring foam-filled cushioning provide comfort support . made usa , armchair measure 34.5 '' h x 28 '' w x 30 '' overall 350 lb . weight capacity 17.5 '' seat height . framematerial : solid + manufactured wood|productcare : spot cleaned mild detergent warm water|framematerialdetails : expanded polystyrene|upholsterymaterial : faux leather|overalldepth-fronttoback:30|weightcapacity:350|supplierintendedandapproveduse : non residential use|armheight-floortoarm:22|seatconstruction : coil spring|upholsterymaterialdetails : leatherette|armmaterial : leather|overallheight-toptobottom:0|style : modern & contemporary|seatdepth-fronttoback:20|dssecondaryproductstyle : mid-century modern|seatheight-floortoseat:17.5|woodspecies : fir|dsprimaryproductstyle : modern|removablecushionlocation : seat|armtype : square arms|countryoforigin-additionaldetails : made usa|overallproductweight:29|countryoforigin : united states|waterrepellant : resiliency|design : armchair|fauxleathertype : pu|warrantylength:25 years|seatwidth-sidetoside:20|seatfillmaterial : foam|backheight-seattotopofback:21|overallheight-toptobottom:34.5|pattern : solid color|minimumdoorwidth-sidetoside:25|numberofchairsincluded:1|commercialwarranty : no|ottomanincluded : no|swivel : no|legaldocumentation : no|slipcovered : no|tuftedcushions : no|customproduct : no|tosspillowsincluded : no| : no|nailheadtrim : no|mattressincluded : no|armsincluded : yes|adultassemblyrequired : yes|removablecushions : yes|carbphaseiicompliantformaldehydeemissions : yes|weightcapacitygreaterthan250lbs : yes|productwarranty : yes|tscatitlevicompliantformaldehydeemissions : yes|compositewoodproductcwp : yes|upholstered : yes|purposefuldistressingtype : distressing|supplierintendedandapproveduse : residential use\n",
      "41306 hartsell 33 '' wide armchair hartsell 33 '' wide armchair accent chair furniture / living room furniture / chair & seating / accent chair cube armchair combine style comfort , artificial suede leather upholstery add touch timeless elegance interior . armchair made sturdy wooden frame upholstered faux suede leather . soft seat included back cushion ergonomic design make chair extremely comfortable favorite spot relax . additionally , armchair supported solid chrome foot ensure extra stability . productcare : |backheight-seattotopofback:12.2|seatfillmaterial : synthetic fiber|upholsterycolor : brown faux leather|upholsterycolor : blue faux leather|supplierintendedandapproveduse : non residential use|dssecondaryproductstyle : ultra-modern|waterrepellant : resiliency|framematerial : solid wood|legmaterialdetails : chrome|backtype : pillow back|legcolor : gray|armmaterial : leather|design : armchair|overalldepth-fronttoback:24.4|upholsterymaterial : faux leather|weightcapacity:250|seatdepth-fronttoback:23.2|overallheight-toptobottom:28.7|overallproductweight:31.75|minimumdoorwidth-sidetoside:0|pattern : solid color|armheight-floortoarm:24|overallwidth-sidetoside:33|dsprimaryproductstyle : modern|seatwidth-sidetoside:21.3|armtype : square arms|levelofassembly : partial assembly|seatheight-floortoseat:16.5|numberofchairsincluded:1|caltb116compliant : no|tuftedcushions : no|anti-microbial : no|compositewoodproductcwp : no|tosspillowsincluded : no|slipcovered : no|nailheadtrim : no|mattressincluded : no|ottomanincluded : no|containsflameretardantmaterials : no|removablecushions : no|swivel : no|commercialwarranty : no|productwarranty : no|caltb117-2013compliant : no|uniformpackagingandlabelingregulationsuplrcompliant : no|adultassemblyrequired : yes|canadaproductrestriction : yes|upholstered : yes|armsincluded : yes|legmaterial : metal|purposefuldistressingtype : distressing|supplierintendedandapproveduse : residential use hartsell 33 '' wide armchair hartsell 33 '' wide armchair accent chair furniture / living room furniture / chair & seating / accent chair cube armchair combine style comfort , artificial suede leather upholstery add touch timeless elegance interior . armchair made sturdy wooden frame upholstered faux suede leather . soft seat included back cushion ergonomic design make chair extremely comfortable favorite spot relax . additionally , armchair supported solid chrome foot ensure extra stability . productcare : |backheight-seattotopofback:12.2|seatfillmaterial : synthetic fiber|upholsterycolor : brown faux leather|upholsterycolor : blue faux leather|supplierintendedandapproveduse : non residential use|dssecondaryproductstyle : ultra-modern|waterrepellant : resiliency|framematerial : solid wood|legmaterialdetails : chrome|backtype : pillow back|legcolor : gray|armmaterial : leather|design : armchair|overalldepth-fronttoback:24.4|upholsterymaterial : faux leather|weightcapacity:250|seatdepth-fronttoback:23.2|overallheight-toptobottom:28.7|overallproductweight:31.75|minimumdoorwidth-sidetoside:0|pattern : solid color|armheight-floortoarm:24|overallwidth-sidetoside:33|dsprimaryproductstyle : modern|seatwidth-sidetoside:21.3|armtype : square arms|levelofassembly : partial assembly|seatheight-floortoseat:16.5|numberofchairsincluded:1|caltb116compliant : no|tuftedcushions : no|anti-microbial : no|compositewoodproductcwp : no|tosspillowsincluded : no|slipcovered : no|nailheadtrim : no|mattressincluded : no|ottomanincluded : no|containsflameretardantmaterials : no|removablecushions : no|swivel : no|commercialwarranty : no|productwarranty : no|caltb117-2013compliant : no|uniformpackagingandlabelingregulationsuplrcompliant : no|adultassemblyrequired : yes|canadaproductrestriction : yes|upholstered : yes|armsincluded : yes|legmaterial : metal|purposefuldistressingtype : distressing|supplierintendedandapproveduse : residential use accent chair furniture / living room furniture / chair & seating / accent chair cube armchair combine style comfort , artificial suede leather upholstery add touch timeless elegance interior . armchair made sturdy wooden frame upholstered faux suede leather . soft seat included back cushion ergonomic design make chair extremely comfortable favorite spot relax . additionally , armchair supported solid chrome foot ensure extra stability . productcare : |backheight-seattotopofback:12.2|seatfillmaterial : synthetic fiber|upholsterycolor : brown faux leather|upholsterycolor : blue faux leather|supplierintendedandapproveduse : non residential use|dssecondaryproductstyle : ultra-modern|waterrepellant : resiliency|framematerial : solid wood|legmaterialdetails : chrome|backtype : pillow back|legcolor : gray|armmaterial : leather|design : armchair|overalldepth-fronttoback:24.4|upholsterymaterial : faux leather|weightcapacity:250|seatdepth-fronttoback:23.2|overallheight-toptobottom:28.7|overallproductweight:31.75|minimumdoorwidth-sidetoside:0|pattern : solid color|armheight-floortoarm:24|overallwidth-sidetoside:33|dsprimaryproductstyle : modern|seatwidth-sidetoside:21.3|armtype : square arms|levelofassembly : partial assembly|seatheight-floortoseat:16.5|numberofchairsincluded:1|caltb116compliant : no|tuftedcushions : no|anti-microbial : no|compositewoodproductcwp : no|tosspillowsincluded : no|slipcovered : no|nailheadtrim : no|mattressincluded : no|ottomanincluded : no|containsflameretardantmaterials : no|removablecushions : no|swivel : no|commercialwarranty : no|productwarranty : no|caltb117-2013compliant : no|uniformpackagingandlabelingregulationsuplrcompliant : no|adultassemblyrequired : yes|canadaproductrestriction : yes|upholstered : yes|armsincluded : yes|legmaterial : metal|purposefuldistressingtype : distressing|supplierintendedandapproveduse : residential use\n",
      "23907 faizah 27.6 '' wide tufted polyester armchair faizah 27.6 '' wide tufted polyester armchair accent chair furniture / living room furniture / chair & seating / accent chair lend seating ensemble dash mid-century style modern armchair ! founded solid manufactured wood frame , armchair feature full back , gently-flared arm , four tapered dowel leg light , natural stain . enveloped 100 % polyester upholstery , armchair showcase channel tufting tailored touch , web suspension foam-filled cushioning provides added comfort support . productcare : wipe cloth mild soap|waterrepellant : resiliency|dswoodtone : medium wood|framematerial : solid + manufactured wood|armheight-floortoarm:28.5|removablecushionlocation : seat|framematerialdetails : birch|design : armchair|seatfillmaterial : foam|backfillmaterialdetails : polyurethane foam|weightcapacity:250|pattern : solid color|seatfillmaterialdetails : polyurethane foam|armtype : flared arms|armmaterial : fabric|seatheight-floortoseat:18.5|overallwidth-sidetoside:27.6|seatconstruction : web suspension|overalldepth-fronttoback:28.3|style : modern & contemporary|dssecondaryproductstyle : mid-century modern|backheight-seattotopofback:12.5|seatdepth-fronttoback:19.6|overallheight-toptobottom:31.5|dsprimaryproductstyle : modern|seatwidth-sidetoside:19.75|upholsterymaterialdetails : fabric|backfillmaterial : foam|overallproductweight:27|upholsterymaterial:100 % polyester|numberofchairsincluded:1|legaldocumentation : no|caltb133compliant : no|mattressincluded : no|cecertified : no|commercialwarranty : no|tosspillowsincluded : no|nailheadtrim : no|customproduct : no|swivel : no|containsflameretardantmaterials : no|slipcovered : no|caltb117-2013compliant : no|reversiblecushions : no|californiaproposition65warningrequired : no| : no|tscatitlevicompliantformaldehydeemissions : no|firerated : no|ottomanincluded : no| : yes|compositewoodproductcwp : yes|upholstered : yes|tuftedcushions : yes|taacompliant : yes|adultassemblyrequired : yes|weightcapacitygreaterthan250lbs : yes|removablecushions : yes|armsincluded : yes|carbphaseiicompliantformaldehydeemissions : yes|countryoforigin : china|supplierintendedandapproveduse : residential use faizah 27.6 '' wide tufted polyester armchair faizah 27.6 '' wide tufted polyester armchair accent chair furniture / living room furniture / chair & seating / accent chair lend seating ensemble dash mid-century style modern armchair ! founded solid manufactured wood frame , armchair feature full back , gently-flared arm , four tapered dowel leg light , natural stain . enveloped 100 % polyester upholstery , armchair showcase channel tufting tailored touch , web suspension foam-filled cushioning provides added comfort support . productcare : wipe cloth mild soap|waterrepellant : resiliency|dswoodtone : medium wood|framematerial : solid + manufactured wood|armheight-floortoarm:28.5|removablecushionlocation : seat|framematerialdetails : birch|design : armchair|seatfillmaterial : foam|backfillmaterialdetails : polyurethane foam|weightcapacity:250|pattern : solid color|seatfillmaterialdetails : polyurethane foam|armtype : flared arms|armmaterial : fabric|seatheight-floortoseat:18.5|overallwidth-sidetoside:27.6|seatconstruction : web suspension|overalldepth-fronttoback:28.3|style : modern & contemporary|dssecondaryproductstyle : mid-century modern|backheight-seattotopofback:12.5|seatdepth-fronttoback:19.6|overallheight-toptobottom:31.5|dsprimaryproductstyle : modern|seatwidth-sidetoside:19.75|upholsterymaterialdetails : fabric|backfillmaterial : foam|overallproductweight:27|upholsterymaterial:100 % polyester|numberofchairsincluded:1|legaldocumentation : no|caltb133compliant : no|mattressincluded : no|cecertified : no|commercialwarranty : no|tosspillowsincluded : no|nailheadtrim : no|customproduct : no|swivel : no|containsflameretardantmaterials : no|slipcovered : no|caltb117-2013compliant : no|reversiblecushions : no|californiaproposition65warningrequired : no| : no|tscatitlevicompliantformaldehydeemissions : no|firerated : no|ottomanincluded : no| : yes|compositewoodproductcwp : yes|upholstered : yes|tuftedcushions : yes|taacompliant : yes|adultassemblyrequired : yes|weightcapacitygreaterthan250lbs : yes|removablecushions : yes|armsincluded : yes|carbphaseiicompliantformaldehydeemissions : yes|countryoforigin : china|supplierintendedandapproveduse : residential use accent chair furniture / living room furniture / chair & seating / accent chair lend seating ensemble dash mid-century style modern armchair ! founded solid manufactured wood frame , armchair feature full back , gently-flared arm , four tapered dowel leg light , natural stain . enveloped 100 % polyester upholstery , armchair showcase channel tufting tailored touch , web suspension foam-filled cushioning provides added comfort support . productcare : wipe cloth mild soap|waterrepellant : resiliency|dswoodtone : medium wood|framematerial : solid + manufactured wood|armheight-floortoarm:28.5|removablecushionlocation : seat|framematerialdetails : birch|design : armchair|seatfillmaterial : foam|backfillmaterialdetails : polyurethane foam|weightcapacity:250|pattern : solid color|seatfillmaterialdetails : polyurethane foam|armtype : flared arms|armmaterial : fabric|seatheight-floortoseat:18.5|overallwidth-sidetoside:27.6|seatconstruction : web suspension|overalldepth-fronttoback:28.3|style : modern & contemporary|dssecondaryproductstyle : mid-century modern|backheight-seattotopofback:12.5|seatdepth-fronttoback:19.6|overallheight-toptobottom:31.5|dsprimaryproductstyle : modern|seatwidth-sidetoside:19.75|upholsterymaterialdetails : fabric|backfillmaterial : foam|overallproductweight:27|upholsterymaterial:100 % polyester|numberofchairsincluded:1|legaldocumentation : no|caltb133compliant : no|mattressincluded : no|cecertified : no|commercialwarranty : no|tosspillowsincluded : no|nailheadtrim : no|customproduct : no|swivel : no|containsflameretardantmaterials : no|slipcovered : no|caltb117-2013compliant : no|reversiblecushions : no|californiaproposition65warningrequired : no| : no|tscatitlevicompliantformaldehydeemissions : no|firerated : no|ottomanincluded : no| : yes|compositewoodproductcwp : yes|upholstered : yes|tuftedcushions : yes|taacompliant : yes|adultassemblyrequired : yes|weightcapacitygreaterthan250lbs : yes|removablecushions : yes|armsincluded : yes|carbphaseiicompliantformaldehydeemissions : yes|countryoforigin : china|supplierintendedandapproveduse : residential use\n",
      "41270 almaraz 33.7 '' wide leather match armchair almaraz 33.7 '' wide leather match armchair accent chair furniture / living room furniture / chair & seating / accent chair modern design armchair add touch timeless elegance living space . durable wooden frame leather upholstery ( 19 % real leather ) , armchair sturdy yet comfortable designed year use . design : armchair|armtype : rolled arms|dsprimaryproductstyle : modern|overallwidth-sidetoside:33.7|levelofassembly : partial assembly|overallheight-toptobottom:29|backtype : cushion back|overallproductweight:35.27|backheight-seattotopofback:26.57|overalldepth-fronttoback:24.8|seatdepth-fronttoback:23.23|supplierintendedandapproveduse : non residential use|dssecondaryproductstyle : ultra-modern|pattern : solid color|seatwidth-sidetoside:21.26|legcolor : chrome|armheight-floortoarm:26.57|seatheight-floortoseat:15.75|armmaterial : leather|estimatedtimetosetup:10|minimumdoorwidth-sidetoside:22|waterrepellant : resiliency|framematerial : manufactured wood|weightcapacity:330.69|numberoftosspillows:1|numberofchairsincluded:1|ottomanincluded : no|containsflameretardantmaterials : no|tuftedcushions : no|slipcovered : no|compositewoodproductcwp : no|removablecushions : no|swivel : no|mattressincluded : no|caltb116compliant : no|generalcertificateofconformitygcc : no|uniformpackagingandlabelingregulationsuplrcompliant : no|nailheadtrim : no|commercialwarranty : no|caltb117-2013compliant : no|weightcapacitygreaterthan250lbs : yes|upholstered : yes|tosspillowsincluded : yes|armsincluded : yes|adultassemblyrequired : yes|canadaproductrestriction : yes|countryoforigin : china|legmaterial : metal|purposefuldistressingtype : distressing|supplierintendedandapproveduse : residential use almaraz 33.7 '' wide leather match armchair almaraz 33.7 '' wide leather match armchair accent chair furniture / living room furniture / chair & seating / accent chair modern design armchair add touch timeless elegance living space . durable wooden frame leather upholstery ( 19 % real leather ) , armchair sturdy yet comfortable designed year use . design : armchair|armtype : rolled arms|dsprimaryproductstyle : modern|overallwidth-sidetoside:33.7|levelofassembly : partial assembly|overallheight-toptobottom:29|backtype : cushion back|overallproductweight:35.27|backheight-seattotopofback:26.57|overalldepth-fronttoback:24.8|seatdepth-fronttoback:23.23|supplierintendedandapproveduse : non residential use|dssecondaryproductstyle : ultra-modern|pattern : solid color|seatwidth-sidetoside:21.26|legcolor : chrome|armheight-floortoarm:26.57|seatheight-floortoseat:15.75|armmaterial : leather|estimatedtimetosetup:10|minimumdoorwidth-sidetoside:22|waterrepellant : resiliency|framematerial : manufactured wood|weightcapacity:330.69|numberoftosspillows:1|numberofchairsincluded:1|ottomanincluded : no|containsflameretardantmaterials : no|tuftedcushions : no|slipcovered : no|compositewoodproductcwp : no|removablecushions : no|swivel : no|mattressincluded : no|caltb116compliant : no|generalcertificateofconformitygcc : no|uniformpackagingandlabelingregulationsuplrcompliant : no|nailheadtrim : no|commercialwarranty : no|caltb117-2013compliant : no|weightcapacitygreaterthan250lbs : yes|upholstered : yes|tosspillowsincluded : yes|armsincluded : yes|adultassemblyrequired : yes|canadaproductrestriction : yes|countryoforigin : china|legmaterial : metal|purposefuldistressingtype : distressing|supplierintendedandapproveduse : residential use accent chair furniture / living room furniture / chair & seating / accent chair modern design armchair add touch timeless elegance living space . durable wooden frame leather upholstery ( 19 % real leather ) , armchair sturdy yet comfortable designed year use . design : armchair|armtype : rolled arms|dsprimaryproductstyle : modern|overallwidth-sidetoside:33.7|levelofassembly : partial assembly|overallheight-toptobottom:29|backtype : cushion back|overallproductweight:35.27|backheight-seattotopofback:26.57|overalldepth-fronttoback:24.8|seatdepth-fronttoback:23.23|supplierintendedandapproveduse : non residential use|dssecondaryproductstyle : ultra-modern|pattern : solid color|seatwidth-sidetoside:21.26|legcolor : chrome|armheight-floortoarm:26.57|seatheight-floortoseat:15.75|armmaterial : leather|estimatedtimetosetup:10|minimumdoorwidth-sidetoside:22|waterrepellant : resiliency|framematerial : manufactured wood|weightcapacity:330.69|numberoftosspillows:1|numberofchairsincluded:1|ottomanincluded : no|containsflameretardantmaterials : no|tuftedcushions : no|slipcovered : no|compositewoodproductcwp : no|removablecushions : no|swivel : no|mattressincluded : no|caltb116compliant : no|generalcertificateofconformitygcc : no|uniformpackagingandlabelingregulationsuplrcompliant : no|nailheadtrim : no|commercialwarranty : no|caltb117-2013compliant : no|weightcapacitygreaterthan250lbs : yes|upholstered : yes|tosspillowsincluded : yes|armsincluded : yes|adultassemblyrequired : yes|canadaproductrestriction : yes|countryoforigin : china|legmaterial : metal|purposefuldistressingtype : distressing|supplierintendedandapproveduse : residential use\n",
      "40705 28.5 '' wide armchair 28.5 '' wide armchair accent chair furniture / living room furniture / chair & seating / accent chair  waterrepellant : resiliency|pattern : solid color|design : armchair|seatheight-floortoseat:19.5|style : modern & contemporary|armtype : flared arms|armheight-floortoarm:25.5|overallwidth-sidetoside:28.5|overallproductweight:60|countryoforigin : united states|overalldepth-fronttoback:33|overallheight-toptobottom:45.5|numberofchairsincluded:1|tosspillowsincluded : no|mattressincluded : no|slipcovered : no|ottomanincluded : no|nailheadtrim : no|legaldocumentation : no|swivel : no|tuftedcushions : no|upholstered : yes|armsincluded : yes 28.5 '' wide armchair 28.5 '' wide armchair accent chair furniture / living room furniture / chair & seating / accent chair  waterrepellant : resiliency|pattern : solid color|design : armchair|seatheight-floortoseat:19.5|style : modern & contemporary|armtype : flared arms|armheight-floortoarm:25.5|overallwidth-sidetoside:28.5|overallproductweight:60|countryoforigin : united states|overalldepth-fronttoback:33|overallheight-toptobottom:45.5|numberofchairsincluded:1|tosspillowsincluded : no|mattressincluded : no|slipcovered : no|ottomanincluded : no|nailheadtrim : no|legaldocumentation : no|swivel : no|tuftedcushions : no|upholstered : yes|armsincluded : yes accent chair furniture / living room furniture / chair & seating / accent chair  waterrepellant : resiliency|pattern : solid color|design : armchair|seatheight-floortoseat:19.5|style : modern & contemporary|armtype : flared arms|armheight-floortoarm:25.5|overallwidth-sidetoside:28.5|overallproductweight:60|countryoforigin : united states|overalldepth-fronttoback:33|overallheight-toptobottom:45.5|numberofchairsincluded:1|tosspillowsincluded : no|mattressincluded : no|slipcovered : no|ottomanincluded : no|nailheadtrim : no|legaldocumentation : no|swivel : no|tuftedcushions : no|upholstered : yes|armsincluded : yes\n",
      "40707 33 '' wide armchair 33 '' wide armchair accent chair furniture / living room furniture / chair & seating / accent chair  design : armchair|countryoforigin : united states|armheight-floortoarm:19|overallwidth-sidetoside:33|seatheight-floortoseat:19|armtype : square arms|overallheight-toptobottom:35|waterrepellant : resiliency|pattern : solid color|upholsterycolor : |overalldepth-fronttoback:35|style : modern & contemporary|overallproductweight:60|numberofchairsincluded:1|legaldocumentation : no|ottomanincluded : no|nailheadtrim : no|mattressincluded : no|swivel : no|slipcovered : no|tuftedcushions : no|tosspillowsincluded : no|upholstered : yes|armsincluded : yes 33 '' wide armchair 33 '' wide armchair accent chair furniture / living room furniture / chair & seating / accent chair  design : armchair|countryoforigin : united states|armheight-floortoarm:19|overallwidth-sidetoside:33|seatheight-floortoseat:19|armtype : square arms|overallheight-toptobottom:35|waterrepellant : resiliency|pattern : solid color|upholsterycolor : |overalldepth-fronttoback:35|style : modern & contemporary|overallproductweight:60|numberofchairsincluded:1|legaldocumentation : no|ottomanincluded : no|nailheadtrim : no|mattressincluded : no|swivel : no|slipcovered : no|tuftedcushions : no|tosspillowsincluded : no|upholstered : yes|armsincluded : yes accent chair furniture / living room furniture / chair & seating / accent chair  design : armchair|countryoforigin : united states|armheight-floortoarm:19|overallwidth-sidetoside:33|seatheight-floortoseat:19|armtype : square arms|overallheight-toptobottom:35|waterrepellant : resiliency|pattern : solid color|upholsterycolor : |overalldepth-fronttoback:35|style : modern & contemporary|overallproductweight:60|numberofchairsincluded:1|legaldocumentation : no|ottomanincluded : no|nailheadtrim : no|mattressincluded : no|swivel : no|slipcovered : no|tuftedcushions : no|tosspillowsincluded : no|upholstered : yes|armsincluded : yes\n",
      "29627 bostick 25 '' wide polyester armchair bostick 25 '' wide polyester armchair accent chair furniture / living room furniture / chair & seating / accent chair contemporary armchair feature arm leg crafted beech wood , type hardwood ’ non-porous boast exceptionally solid density . mean armchair prone issue cracking , splitting warping like type wooden furniture . style : modern & contemporary|framematerial : solid wood|armmaterial : wood|overallheight-toptobottom:32.1|seatheight-floortoseat:17.3|armheight-floortoarm:23.22|upholsterycolor : blue|weightcapacity:265|seatwidth-sidetoside:21.7|waterrepellant : resiliency|backtype : tight back|armtype : square arms|seatfillmaterial : foam|dssecondaryproductstyle : mid-century modern|seatdepth-fronttoback:20.9|woodspecies : beech|minimumdoorwidth-sidetoside:34|dswoodtone : medium wood|backfillmaterial : foam|backheight-seattotopofback:14.8|upholsterymaterial : hemp|overallproductweight:30.58|legcolor : natural|overalldepth-fronttoback:32.3|dsprimaryproductstyle : modern|design : armchair|overallwidth-sidetoside:25|supplierintendedandapproveduse : non residential use|pattern : solid color|numberofchairsincluded:1|nailheadtrim : no|compositewoodproductcwp : no|caltb133compliant : no|mattressincluded : no|tuftedcushions : no|swivel : no| : no|ottomanincluded : no|tosspillowsincluded : no|generalcertificateofconformitygcc : no|containsflameretardantmaterials : no|slipcovered : no|removablecushions : no|upholstered : yes|caltb116compliant : yes|caltb117-2013compliant : yes|weightcapacitygreaterthan250lbs : yes|armsincluded : yes|adultassemblyrequired : yes|countryoforigin : china|purposefuldistressingtype : distressing|supplierintendedandapproveduse : residential use bostick 25 '' wide polyester armchair bostick 25 '' wide polyester armchair accent chair furniture / living room furniture / chair & seating / accent chair contemporary armchair feature arm leg crafted beech wood , type hardwood ’ non-porous boast exceptionally solid density . mean armchair prone issue cracking , splitting warping like type wooden furniture . style : modern & contemporary|framematerial : solid wood|armmaterial : wood|overallheight-toptobottom:32.1|seatheight-floortoseat:17.3|armheight-floortoarm:23.22|upholsterycolor : blue|weightcapacity:265|seatwidth-sidetoside:21.7|waterrepellant : resiliency|backtype : tight back|armtype : square arms|seatfillmaterial : foam|dssecondaryproductstyle : mid-century modern|seatdepth-fronttoback:20.9|woodspecies : beech|minimumdoorwidth-sidetoside:34|dswoodtone : medium wood|backfillmaterial : foam|backheight-seattotopofback:14.8|upholsterymaterial : hemp|overallproductweight:30.58|legcolor : natural|overalldepth-fronttoback:32.3|dsprimaryproductstyle : modern|design : armchair|overallwidth-sidetoside:25|supplierintendedandapproveduse : non residential use|pattern : solid color|numberofchairsincluded:1|nailheadtrim : no|compositewoodproductcwp : no|caltb133compliant : no|mattressincluded : no|tuftedcushions : no|swivel : no| : no|ottomanincluded : no|tosspillowsincluded : no|generalcertificateofconformitygcc : no|containsflameretardantmaterials : no|slipcovered : no|removablecushions : no|upholstered : yes|caltb116compliant : yes|caltb117-2013compliant : yes|weightcapacitygreaterthan250lbs : yes|armsincluded : yes|adultassemblyrequired : yes|countryoforigin : china|purposefuldistressingtype : distressing|supplierintendedandapproveduse : residential use accent chair furniture / living room furniture / chair & seating / accent chair contemporary armchair feature arm leg crafted beech wood , type hardwood ’ non-porous boast exceptionally solid density . mean armchair prone issue cracking , splitting warping like type wooden furniture . style : modern & contemporary|framematerial : solid wood|armmaterial : wood|overallheight-toptobottom:32.1|seatheight-floortoseat:17.3|armheight-floortoarm:23.22|upholsterycolor : blue|weightcapacity:265|seatwidth-sidetoside:21.7|waterrepellant : resiliency|backtype : tight back|armtype : square arms|seatfillmaterial : foam|dssecondaryproductstyle : mid-century modern|seatdepth-fronttoback:20.9|woodspecies : beech|minimumdoorwidth-sidetoside:34|dswoodtone : medium wood|backfillmaterial : foam|backheight-seattotopofback:14.8|upholsterymaterial : hemp|overallproductweight:30.58|legcolor : natural|overalldepth-fronttoback:32.3|dsprimaryproductstyle : modern|design : armchair|overallwidth-sidetoside:25|supplierintendedandapproveduse : non residential use|pattern : solid color|numberofchairsincluded:1|nailheadtrim : no|compositewoodproductcwp : no|caltb133compliant : no|mattressincluded : no|tuftedcushions : no|swivel : no| : no|ottomanincluded : no|tosspillowsincluded : no|generalcertificateofconformitygcc : no|containsflameretardantmaterials : no|slipcovered : no|removablecushions : no|upholstered : yes|caltb116compliant : yes|caltb117-2013compliant : yes|weightcapacitygreaterthan250lbs : yes|armsincluded : yes|adultassemblyrequired : yes|countryoforigin : china|purposefuldistressingtype : distressing|supplierintendedandapproveduse : residential use\n",
      "27998 21 '' wide armchair 21 '' wide armchair accent chair furniture / living room furniture / chair & seating / accent chair  overallheight-toptobottom:34.25|style : modern & contemporary|overallwidth-sidetoside:21|legcolor : silver|overalldepth-fronttoback:18|armtype : square arms|overallproductweight:17.6|design : armchair|upholsterymaterial : genuine leather|pattern : solid color|upholsterycolor : black|waterrepellant : resiliency|numberofchairsincluded:1|adultassemblyrequired : no|legaldocumentation : no|ottomanincluded : no|swivel : no|mattressincluded : no|nailheadtrim : no|removablecushions : no|tscatitlevicompliantformaldehydeemissions : yes|compositewoodproductcwp : yes|armsincluded : yes|carbphaseiicompliantformaldehydeemissions : yes|upholstered : yes|countryoforigin : china|armmaterial : metal|framematerial : metal|purposefuldistressingtype : distressing 21 '' wide armchair 21 '' wide armchair accent chair furniture / living room furniture / chair & seating / accent chair  overallheight-toptobottom:34.25|style : modern & contemporary|overallwidth-sidetoside:21|legcolor : silver|overalldepth-fronttoback:18|armtype : square arms|overallproductweight:17.6|design : armchair|upholsterymaterial : genuine leather|pattern : solid color|upholsterycolor : black|waterrepellant : resiliency|numberofchairsincluded:1|adultassemblyrequired : no|legaldocumentation : no|ottomanincluded : no|swivel : no|mattressincluded : no|nailheadtrim : no|removablecushions : no|tscatitlevicompliantformaldehydeemissions : yes|compositewoodproductcwp : yes|armsincluded : yes|carbphaseiicompliantformaldehydeemissions : yes|upholstered : yes|countryoforigin : china|armmaterial : metal|framematerial : metal|purposefuldistressingtype : distressing accent chair furniture / living room furniture / chair & seating / accent chair  overallheight-toptobottom:34.25|style : modern & contemporary|overallwidth-sidetoside:21|legcolor : silver|overalldepth-fronttoback:18|armtype : square arms|overallproductweight:17.6|design : armchair|upholsterymaterial : genuine leather|pattern : solid color|upholsterycolor : black|waterrepellant : resiliency|numberofchairsincluded:1|adultassemblyrequired : no|legaldocumentation : no|ottomanincluded : no|swivel : no|mattressincluded : no|nailheadtrim : no|removablecushions : no|tscatitlevicompliantformaldehydeemissions : yes|compositewoodproductcwp : yes|armsincluded : yes|carbphaseiicompliantformaldehydeemissions : yes|upholstered : yes|countryoforigin : china|armmaterial : metal|framematerial : metal|purposefuldistressingtype : distressing\n"
     ]
    }
   ],
   "source": [
    "# Usinmg WordNet to enrich the query \n",
    "def expand_query(query):\n",
    "    synonyms = set()\n",
    "    for syn in wordnet.synsets(query):\n",
    "        for lemma in syn.lemmas():\n",
    "            if lemma.name() not in synonyms: synonyms.add(lemma.name())\n",
    "    return query + ' ' + ' '.join(synonyms)\n",
    "\n",
    "# Sanity check code block to see if the search results are relevant\n",
    "# Implementing a function to retrieve top K product IDs for a query\n",
    "def get_top_product_ids_for_query(query):\n",
    "    top_product_indices = get_top_products(vectorizer, tfidf_matrix, query, top_n=10)\n",
    "    top_product_ids = new_df.iloc[top_product_indices]['product_id'].tolist()\n",
    "    return top_product_ids\n",
    "\n",
    "# Defining the test query\n",
    "query = \"armchair\"\n",
    "query = expand_query(query) # Enriching the query\n",
    "\n",
    "# Obtain top product IDs\n",
    "top_product_ids = get_top_product_ids_for_query(query)\n",
    "\n",
    "print(f\"Top products for '{query}':\")\n",
    "for product_id in top_product_ids:\n",
    "    product = new_df.loc[product_df['product_id'] == product_id]\n",
    "    print(product_id, product['product_name'].values[0])"
   ]
  },
  {
   "cell_type": "code",
   "execution_count": 25,
   "id": "4bdeda61-7fb0-4ca6-a9e1-f1789b539f66",
   "metadata": {
    "tags": []
   },
   "outputs": [],
   "source": [
    "# Implementing a function to retrieve exact match product IDs for a query_id\n",
    "def get_exact_matches_for_query(query_id):\n",
    "    query_group = grouped_label_df.get_group(query_id)\n",
    "    exact_matches = query_group.loc[query_group['label'] == 'Exact']['product_id'].values\n",
    "    return exact_matches\n",
    "\n",
    "# Applying the function to obtain top product IDs and adding top K product IDs to the dataframe \n",
    "# query_df['top_product_ids'] = query_df['query'].apply(get_top_product_ids_for_query)\n",
    "query_df['expand_query'] = query_df['query'].apply(expand_query) # Enriching the query\n",
    "query_df['top_product_ids'] = query_df['expand_query'].apply(get_top_product_ids_for_query) # Passing the enriched query to the function\n",
    "\n",
    "# Adding the list of exact match product_IDs from labels_df\n",
    "query_df['relevant_ids'] = query_df['query_id'].apply(get_exact_matches_for_query)\n",
    "\n",
    "# Now assigning the map@k score\n",
    "query_df['map@k'] = query_df.apply(lambda x: map_at_k(x['relevant_ids'], x['top_product_ids'], k=10), axis=1)"
   ]
  },
  {
   "cell_type": "code",
   "execution_count": 26,
   "id": "ed01f293-d87b-4ab0-811a-d39140ed5638",
   "metadata": {
    "tags": []
   },
   "outputs": [
    {
     "data": {
      "text/plain": [
       "np.float64(0.3271772670487948)"
      ]
     },
     "execution_count": 26,
     "metadata": {},
     "output_type": "execute_result"
    }
   ],
   "source": [
    "# Calculating the MAP across the entire query set\n",
    "query_df.loc[:, 'map@k'].mean()"
   ]
  },
  {
   "cell_type": "markdown",
   "id": "14a92489",
   "metadata": {},
   "source": [
    "The average of MAP (Mean of Average Precision) at K ranked list for the k (10) retrieved products is 32%. This means there are 32% similarity between what we have searched (armchair) and descriptions of retrieved products.\n",
    "\n",
    "The question is if it is different if we use another matching method such as Word2Vec?"
   ]
  }
 ],
 "metadata": {
  "kernelspec": {
   "display_name": "Python 3",
   "language": "python",
   "name": "python3"
  },
  "language_info": {
   "codemirror_mode": {
    "name": "ipython",
    "version": 3
   },
   "file_extension": ".py",
   "mimetype": "text/x-python",
   "name": "python",
   "nbconvert_exporter": "python",
   "pygments_lexer": "ipython3",
   "version": "3.11.9"
  }
 },
 "nbformat": 4,
 "nbformat_minor": 5
}
